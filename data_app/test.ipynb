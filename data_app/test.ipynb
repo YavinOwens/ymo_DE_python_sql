{
 "cells": [
  {
   "cell_type": "code",
   "execution_count": 1,
   "metadata": {},
   "outputs": [],
   "source": [
    "import pandas as pd\n",
    "import sqlite3\n",
    "\n",
    "# Create connection to HR database\n",
    "conn = sqlite3.connect('assets/data/hr_database.sqlite')\n",
    "\n",
    "# Create cursor object\n",
    "cursor = conn.cursor()\n",
    "\n",
    "# Get list of tables\n",
    "tables = cursor.execute(\"SELECT name FROM sqlite_master WHERE type='table';\").fetchall()\n",
    "table_names = [table[0] for table in tables]\n",
    "\n",
    "# Read data from each table into dataframes\n",
    "dfs = {}\n",
    "for table in table_names:\n",
    "    dfs[table] = pd.read_sql_query(f\"SELECT * FROM {table}\", conn)\n",
    "\n",
    "# Close connection\n",
    "conn.close()\n"
   ]
  },
  {
   "cell_type": "code",
   "execution_count": 24,
   "metadata": {},
   "outputs": [],
   "source": [
    "import json\n",
    "\n",
    "def fix_column_quotes(config_path):\n",
    "    # Reahe current configuration\n",
    "   with open(config_path, 'r') as f:\n",
    "       config = json.load(f)\n",
    "   \n",
    "   # Fix each rule's python_code\n",
    "   for rule_key, rule in config['rule_configs'].items():\n",
    "       python_code = rule['python_code']\n",
    "       column_name = rule['column_name']\n",
    "       \n",
    "       # Replace single quoted or unquoted column references with triple quotes\n",
    "       python_code = python_code.replace(f\"df['{column_name}']\", f\"df['''{column_name}''']\")\n",
    "       python_code = python_code.replace(f'df[\"{column_name}\"]', f\"df['''{column_name}''']\")\n",
    "       python_code = python_code.replace(f\"df[{column_name}]\", f\"df['''{column_name}''']\")\n",
    "       \n",
    "       # Update the rule\n",
    "       config['rule_configs'][rule_key]['python_code'] = python_code\n",
    "   \n",
    "   # Write the updated configuration\n",
    "   with open(config_path, 'w') as f:\n",
    "       json.dump(config, f, indent=2)\n",
    "# Usage\n",
    "fix_column_quotes('rule_configurations.json')"
   ]
  },
  {
   "cell_type": "code",
   "execution_count": 25,
   "metadata": {},
   "outputs": [
    {
     "data": {
      "text/plain": [
       "(12,\n",
       " ['person_assignments',\n",
       "  'sqlite_sequence',\n",
       "  'person_addresses',\n",
       "  'per',\n",
       "  'assignments',\n",
       "  'addresses',\n",
       "  'rule_validation_results',\n",
       "  'validation_results',\n",
       "  'rule_configurations',\n",
       "  'rule_execution_status',\n",
       "  'rule_execution_control',\n",
       "  'rule_results_cache'])"
      ]
     },
     "execution_count": 25,
     "metadata": {},
     "output_type": "execute_result"
    }
   ],
   "source": [
    "len(dfs), list(dfs.keys())"
   ]
  },
  {
   "cell_type": "code",
   "execution_count": 26,
   "metadata": {},
   "outputs": [
    {
     "data": {
      "text/html": [
       "<div>\n",
       "<style scoped>\n",
       "    .dataframe tbody tr th:only-of-type {\n",
       "        vertical-align: middle;\n",
       "    }\n",
       "\n",
       "    .dataframe tbody tr th {\n",
       "        vertical-align: top;\n",
       "    }\n",
       "\n",
       "    .dataframe thead th {\n",
       "        text-align: right;\n",
       "    }\n",
       "</style>\n",
       "<table border=\"1\" class=\"dataframe\">\n",
       "  <thead>\n",
       "    <tr style=\"text-align: right;\">\n",
       "      <th></th>\n",
       "      <th>id</th>\n",
       "      <th>rule_id</th>\n",
       "      <th>table_name</th>\n",
       "      <th>column_name</th>\n",
       "      <th>active</th>\n",
       "      <th>created_date</th>\n",
       "      <th>last_modified</th>\n",
       "      <th>configuration_json</th>\n",
       "    </tr>\n",
       "  </thead>\n",
       "  <tbody>\n",
       "    <tr>\n",
       "      <th>0</th>\n",
       "      <td>1</td>\n",
       "      <td>dq1</td>\n",
       "      <td>addresses</td>\n",
       "      <td>street_address</td>\n",
       "      <td>1</td>\n",
       "      <td>2024-12-20 18:04:32</td>\n",
       "      <td>2024-12-20 18:12:27</td>\n",
       "      <td>{}</td>\n",
       "    </tr>\n",
       "    <tr>\n",
       "      <th>1</th>\n",
       "      <td>2</td>\n",
       "      <td>dq1</td>\n",
       "      <td>person_addresses</td>\n",
       "      <td>per_id</td>\n",
       "      <td>1</td>\n",
       "      <td>2024-12-20 18:06:10</td>\n",
       "      <td>2024-12-20 18:06:10</td>\n",
       "      <td>{}</td>\n",
       "    </tr>\n",
       "    <tr>\n",
       "      <th>2</th>\n",
       "      <td>3</td>\n",
       "      <td>dq1</td>\n",
       "      <td>addresses</td>\n",
       "      <td>country</td>\n",
       "      <td>1</td>\n",
       "      <td>2024-12-20 18:07:53</td>\n",
       "      <td>2024-12-20 18:07:53</td>\n",
       "      <td>{}</td>\n",
       "    </tr>\n",
       "    <tr>\n",
       "      <th>3</th>\n",
       "      <td>5</td>\n",
       "      <td>gdpr_001</td>\n",
       "      <td>per</td>\n",
       "      <td>name</td>\n",
       "      <td>1</td>\n",
       "      <td>2024-12-20 18:14:15</td>\n",
       "      <td>2024-12-20 18:14:15</td>\n",
       "      <td>{}</td>\n",
       "    </tr>\n",
       "  </tbody>\n",
       "</table>\n",
       "</div>"
      ],
      "text/plain": [
       "   id   rule_id        table_name     column_name  active  \\\n",
       "0   1       dq1         addresses  street_address       1   \n",
       "1   2       dq1  person_addresses          per_id       1   \n",
       "2   3       dq1         addresses         country       1   \n",
       "3   5  gdpr_001               per            name       1   \n",
       "\n",
       "          created_date        last_modified configuration_json  \n",
       "0  2024-12-20 18:04:32  2024-12-20 18:12:27                 {}  \n",
       "1  2024-12-20 18:06:10  2024-12-20 18:06:10                 {}  \n",
       "2  2024-12-20 18:07:53  2024-12-20 18:07:53                 {}  \n",
       "3  2024-12-20 18:14:15  2024-12-20 18:14:15                 {}  "
      ]
     },
     "execution_count": 26,
     "metadata": {},
     "output_type": "execute_result"
    }
   ],
   "source": [
    "dfs['rule_configurations']"
   ]
  },
  {
   "cell_type": "code",
   "execution_count": 15,
   "metadata": {},
   "outputs": [
    {
     "data": {
      "text/plain": [
       "0      False\n",
       "1      False\n",
       "2      False\n",
       "3      False\n",
       "4      False\n",
       "       ...  \n",
       "995    False\n",
       "996    False\n",
       "997    False\n",
       "998    False\n",
       "999    False\n",
       "Name: nino, Length: 1000, dtype: bool"
      ]
     },
     "execution_count": 15,
     "metadata": {},
     "output_type": "execute_result"
    }
   ],
   "source": [
    "\n",
    "\n",
    "# Check for Social Security Numbers\n",
    "# dfs['per']['nino'].str.match(r'\\b\\d{3}-\\d{2}-\\d{4}\\b')\n",
    "\n",
    "# Check for valid age range\n",
    "# dfs['per']['age'].between(18, 100)\n",
    "\n",
    "# Check for valid email format\n",
    "# dfs['per']['company'].str.match(r'\\\\b[A-Za-z0-9._%+-]+@[A-Za-z0-9.-]+\\\\.[A-Z|a-z]{2,}\\\\b')\n"
   ]
  },
  {
   "cell_type": "code",
   "execution_count": 16,
   "metadata": {},
   "outputs": [],
   "source": [
    "# dfs['per']['age'].str.match(r'\\\\b[A-Za-z0-9._%+-]+@[A-Za-z0-9.-]+\\\\.[A-Z|a-z]{2,}\\\\b') #  data types matters."
   ]
  },
  {
   "cell_type": "code",
   "execution_count": 23,
   "metadata": {},
   "outputs": [
    {
     "data": {
      "text/plain": [
       "0      False\n",
       "1      False\n",
       "2      False\n",
       "3      False\n",
       "4      False\n",
       "       ...  \n",
       "995    False\n",
       "996    False\n",
       "997    False\n",
       "998    False\n",
       "999    False\n",
       "Name: name, Length: 1000, dtype: bool"
      ]
     },
     "execution_count": 23,
     "metadata": {},
     "output_type": "execute_result"
    }
   ],
   "source": [
    "dfs['per']['''name'''].str.match(r'\\b[A-Za-z0-9._%+-]+@[A-Za-z0-9.-]+\\.[A-Z|a-z]{2,}\\b')"
   ]
  },
  {
   "cell_type": "code",
   "execution_count": null,
   "metadata": {},
   "outputs": [],
   "source": []
  }
 ],
 "metadata": {
  "kernelspec": {
   "display_name": ".venv",
   "language": "python",
   "name": "python3"
  },
  "language_info": {
   "codemirror_mode": {
    "name": "ipython",
    "version": 3
   },
   "file_extension": ".py",
   "mimetype": "text/x-python",
   "name": "python",
   "nbconvert_exporter": "python",
   "pygments_lexer": "ipython3",
   "version": "3.9.13"
  }
 },
 "nbformat": 4,
 "nbformat_minor": 2
}
