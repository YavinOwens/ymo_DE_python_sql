{
 "cells": [
  {
   "cell_type": "markdown",
   "id": "cfc94480",
   "metadata": {},
   "source": [
    "# Package Management in Python\n",
    "\n",
    "## Learning Objectives\n",
    "- Understand pip and package management\n",
    "- Learn about requirements.txt\n",
    "- Handle package dependencies\n",
    "\n",
    "## Topics Covered\n",
    "1. Using pip\n",
    "2. Virtual environments\n",
    "3. Package versioning\n",
    "4. Requirements management"
   ]
  },
  {
   "cell_type": "code",
   "execution_count": null,
   "id": "c8eb8e51",
   "metadata": {},
   "outputs": [],
   "source": [
    "# List installed packages\n",
    "!pip list\n",
    "\n",
    "# Show how to install a package\n",
    "# !pip install pandas==2.0.0\n",
    "\n",
    "# Show package information\n",
    "!pip show pandas\n"
   ]
  },
  {
   "cell_type": "markdown",
   "id": "d935b723",
   "metadata": {},
   "source": [
    "## Working with requirements.txt\n",
    "\n",
    "A `requirements.txt` file lists all the Python packages that your project needs. Here's how to create and use one:"
   ]
  },
  {
   "cell_type": "code",
   "execution_count": null,
   "id": "7a48b763",
   "metadata": {},
   "outputs": [],
   "source": [
    "# Generate requirements.txt\n",
    "!pip freeze > requirements.txt\n",
    "\n",
    "# Read and display requirements\n",
    "with open('requirements.txt', 'r') as f:\n",
    "    print(f.read())\n"
   ]
  }
 ],
 "metadata": {},
 "nbformat": 4,
 "nbformat_minor": 5
}
