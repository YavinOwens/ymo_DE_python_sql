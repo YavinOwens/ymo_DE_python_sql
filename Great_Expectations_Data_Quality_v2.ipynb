{
 "cells": [
  {
   "cell_type": "markdown",
   "metadata": {},
   "source": [
    "# Great Expectations Data Quality Validation\n",
    "\n",
    "This notebook demonstrates how to use Great Expectations to validate data quality for CSV files."
   ]
  },
  {
   "cell_type": "code",
   "execution_count": 4,
   "metadata": {},
   "outputs": [
    {
     "ename": "AttributeError",
     "evalue": "'InMemoryStoreBackendDefaults' object has no attribute 'validations_store_name'",
     "output_type": "error",
     "traceback": [
      "\u001b[1;31m---------------------------------------------------------------------------\u001b[0m",
      "\u001b[1;31mAttributeError\u001b[0m                            Traceback (most recent call last)",
      "Cell \u001b[1;32mIn[4], line 18\u001b[0m\n\u001b[0;32m     11\u001b[0m store_backend_defaults \u001b[38;5;241m=\u001b[39m InMemoryStoreBackendDefaults()\n\u001b[0;32m     13\u001b[0m \u001b[38;5;66;03m# Create a data context config\u001b[39;00m\n\u001b[0;32m     14\u001b[0m data_context_config \u001b[38;5;241m=\u001b[39m DataContextConfig(\n\u001b[0;32m     15\u001b[0m     store_backend_defaults\u001b[38;5;241m=\u001b[39mstore_backend_defaults,\n\u001b[0;32m     16\u001b[0m     checkpoint_store_name\u001b[38;5;241m=\u001b[39mstore_backend_defaults\u001b[38;5;241m.\u001b[39mcheckpoint_store_name,\n\u001b[0;32m     17\u001b[0m     expectations_store_name\u001b[38;5;241m=\u001b[39mstore_backend_defaults\u001b[38;5;241m.\u001b[39mexpectations_store_name,\n\u001b[1;32m---> 18\u001b[0m     validations_store_name\u001b[38;5;241m=\u001b[39m\u001b[43mstore_backend_defaults\u001b[49m\u001b[38;5;241;43m.\u001b[39;49m\u001b[43mvalidations_store_name\u001b[49m,\n\u001b[0;32m     19\u001b[0m     evaluation_parameter_store_name\u001b[38;5;241m=\u001b[39mstore_backend_defaults\u001b[38;5;241m.\u001b[39mevaluation_parameter_store_name,\n\u001b[0;32m     20\u001b[0m )\n\u001b[0;32m     22\u001b[0m \u001b[38;5;66;03m# Create the ephemeral data context\u001b[39;00m\n\u001b[0;32m     23\u001b[0m context \u001b[38;5;241m=\u001b[39m EphemeralDataContext(\n\u001b[0;32m     24\u001b[0m     project_config\u001b[38;5;241m=\u001b[39mdata_context_config,\n\u001b[0;32m     25\u001b[0m )\n",
      "\u001b[1;31mAttributeError\u001b[0m: 'InMemoryStoreBackendDefaults' object has no attribute 'validations_store_name'"
     ]
    }
   ],
   "source": [
    "import great_expectations as gx\n",
    "from great_expectations.core.batch import RuntimeBatchRequest\n",
    "from great_expectations.core.expectation_suite import ExpectationSuite\n",
    "from great_expectations.data_context import EphemeralDataContext\n",
    "from great_expectations.data_context.types.base import (\n",
    "    DataContextConfig,\n",
    "    InMemoryStoreBackendDefaults,\n",
    ")\n",
    "\n",
    "# Create an in-memory store backend\n",
    "store_backend_defaults = InMemoryStoreBackendDefaults()\n",
    "\n",
    "# Create a data context config\n",
    "data_context_config = DataContextConfig(\n",
    "    store_backend_defaults=store_backend_defaults,\n",
    "    checkpoint_store_name=store_backend_defaults.checkpoint_store_name,\n",
    "    expectations_store_name=store_backend_defaults.expectations_store_name,\n",
    "    validations_store_name=store_backend_defaults.validations_store_name,\n",
    "    evaluation_parameter_store_name=store_backend_defaults.evaluation_parameter_store_name,\n",
    ")\n",
    "\n",
    "# Create the ephemeral data context\n",
    "context = EphemeralDataContext(\n",
    "    project_config=data_context_config,\n",
    ")\n",
    "\n",
    "# Create a simple expectation suite\n",
    "expectation_suite_name = \"my_suite\"\n",
    "context.create_expectation_suite(\n",
    "    expectation_suite_name=expectation_suite_name,\n",
    "    overwrite_existing=True\n",
    ")\n",
    "\n",
    "print(\"Great Expectations context created successfully!\")"
   ]
  },
  {
   "cell_type": "markdown",
   "metadata": {},
   "source": [
    "## Initialize Great Expectations Context"
   ]
  },
  {
   "cell_type": "code",
   "execution_count": 2,
   "metadata": {},
   "outputs": [],
   "source": [
    "# Initialize a project\n",
    "context = gx.get_context()"
   ]
  },
  {
   "cell_type": "code",
   "execution_count": null,
   "metadata": {},
   "outputs": [],
   "source": []
  },
  {
   "cell_type": "markdown",
   "metadata": {},
   "source": [
    "## Configure Datasource\n",
    "\n",
    "We'll create a datasource that points to our CSV files in the dummy_data directory."
   ]
  },
  {
   "cell_type": "code",
   "execution_count": 3,
   "metadata": {},
   "outputs": [
    {
     "name": "stderr",
     "output_type": "stream",
     "text": [
      "c:\\Users\\ymowe\\Documents\\DE_PYTHON_SQL\\ymo_DE_python_sql\\.venv\\lib\\site-packages\\great_expectations\\data_context\\data_context\\abstract_data_context.py:869: DeprecationWarning: context.get_datasource is deprecated as of v1.2.0. Please use context.data_sources.get instead\n",
      "  warnings.warn(\n"
     ]
    },
    {
     "ename": "ValueError",
     "evalue": "\"Could not find a datasource named 'my_pandas_datasource'\"",
     "output_type": "error",
     "traceback": [
      "\u001b[1;31m---------------------------------------------------------------------------\u001b[0m",
      "\u001b[1;31mValueError\u001b[0m                                Traceback (most recent call last)",
      "File \u001b[1;32mc:\\Users\\ymowe\\Documents\\DE_PYTHON_SQL\\ymo_DE_python_sql\\.venv\\lib\\site-packages\\great_expectations\\datasource\\datasource_dict.py:104\u001b[0m, in \u001b[0;36mDatasourceDict._get_ds_from_store\u001b[1;34m(self, name)\u001b[0m\n\u001b[0;32m    103\u001b[0m \u001b[38;5;28;01mtry\u001b[39;00m:\n\u001b[1;32m--> 104\u001b[0m     \u001b[38;5;28;01mreturn\u001b[39;00m \u001b[38;5;28;43mself\u001b[39;49m\u001b[38;5;241;43m.\u001b[39;49m\u001b[43m_datasource_store\u001b[49m\u001b[38;5;241;43m.\u001b[39;49m\u001b[43mretrieve_by_name\u001b[49m\u001b[43m(\u001b[49m\u001b[43mname\u001b[49m\u001b[43m)\u001b[49m\n\u001b[0;32m    105\u001b[0m \u001b[38;5;28;01mexcept\u001b[39;00m \u001b[38;5;167;01mValueError\u001b[39;00m:\n",
      "File \u001b[1;32mc:\\Users\\ymowe\\Documents\\DE_PYTHON_SQL\\ymo_DE_python_sql\\.venv\\lib\\site-packages\\great_expectations\\data_context\\store\\datasource_store.py:168\u001b[0m, in \u001b[0;36mDatasourceStore.retrieve_by_name\u001b[1;34m(self, name)\u001b[0m\n\u001b[0;32m    167\u001b[0m \u001b[38;5;28;01mif\u001b[39;00m \u001b[38;5;129;01mnot\u001b[39;00m \u001b[38;5;28mself\u001b[39m\u001b[38;5;241m.\u001b[39mhas_key(datasource_key):\n\u001b[1;32m--> 168\u001b[0m     \u001b[38;5;28;01mraise\u001b[39;00m \u001b[38;5;167;01mValueError\u001b[39;00m(  \u001b[38;5;66;03m# noqa: TRY003\u001b[39;00m\n\u001b[0;32m    169\u001b[0m         \u001b[38;5;124mf\u001b[39m\u001b[38;5;124m\"\u001b[39m\u001b[38;5;124mUnable to load datasource `\u001b[39m\u001b[38;5;132;01m{\u001b[39;00mname\u001b[38;5;132;01m}\u001b[39;00m\u001b[38;5;124m` -- no configuration found or invalid configuration.\u001b[39m\u001b[38;5;124m\"\u001b[39m  \u001b[38;5;66;03m# noqa: E501\u001b[39;00m\n\u001b[0;32m    170\u001b[0m     )\n\u001b[0;32m    172\u001b[0m datasource_config: FluentDatasource \u001b[38;5;241m=\u001b[39m copy\u001b[38;5;241m.\u001b[39mdeepcopy(\u001b[38;5;28mself\u001b[39m\u001b[38;5;241m.\u001b[39mget(datasource_key))  \u001b[38;5;66;03m# type: ignore[arg-type]\u001b[39;00m\n",
      "\u001b[1;31mValueError\u001b[0m: Unable to load datasource `my_pandas_datasource` -- no configuration found or invalid configuration.",
      "\nDuring handling of the above exception, another exception occurred:\n",
      "\u001b[1;31mKeyError\u001b[0m                                  Traceback (most recent call last)",
      "File \u001b[1;32mc:\\Users\\ymowe\\Documents\\DE_PYTHON_SQL\\ymo_DE_python_sql\\.venv\\lib\\site-packages\\great_expectations\\data_context\\data_context\\abstract_data_context.py:875\u001b[0m, in \u001b[0;36mAbstractDataContext.get_datasource\u001b[1;34m(self, name)\u001b[0m\n\u001b[0;32m    874\u001b[0m \u001b[38;5;28;01mtry\u001b[39;00m:\n\u001b[1;32m--> 875\u001b[0m     \u001b[38;5;28;01mreturn\u001b[39;00m \u001b[38;5;28;43mself\u001b[39;49m\u001b[38;5;241;43m.\u001b[39;49m\u001b[43mdata_sources\u001b[49m\u001b[38;5;241;43m.\u001b[39;49m\u001b[43mget\u001b[49m\u001b[43m(\u001b[49m\u001b[43mname\u001b[49m\u001b[43m)\u001b[49m\n\u001b[0;32m    876\u001b[0m \u001b[38;5;28;01mexcept\u001b[39;00m \u001b[38;5;167;01mKeyError\u001b[39;00m \u001b[38;5;28;01mas\u001b[39;00m e:\n",
      "File \u001b[1;32mc:\\Users\\ymowe\\Documents\\DE_PYTHON_SQL\\ymo_DE_python_sql\\.venv\\lib\\site-packages\\great_expectations\\datasource\\fluent\\sources.py:610\u001b[0m, in \u001b[0;36mDataSourceManager.get\u001b[1;34m(self, name)\u001b[0m\n\u001b[0;32m    608\u001b[0m \u001b[38;5;129m@public_api\u001b[39m\n\u001b[0;32m    609\u001b[0m \u001b[38;5;28;01mdef\u001b[39;00m \u001b[38;5;21mget\u001b[39m(\u001b[38;5;28mself\u001b[39m, name: \u001b[38;5;28mstr\u001b[39m) \u001b[38;5;241m-\u001b[39m\u001b[38;5;241m>\u001b[39m Datasource:\n\u001b[1;32m--> 610\u001b[0m     \u001b[38;5;28;01mreturn\u001b[39;00m \u001b[38;5;28;43mself\u001b[39;49m\u001b[38;5;241;43m.\u001b[39;49m\u001b[43mall\u001b[49m\u001b[43m(\u001b[49m\u001b[43m)\u001b[49m\u001b[43m[\u001b[49m\u001b[43mname\u001b[49m\u001b[43m]\u001b[49m\n",
      "File \u001b[1;32mc:\\Users\\ymowe\\Documents\\DE_PYTHON_SQL\\ymo_DE_python_sql\\.venv\\lib\\site-packages\\great_expectations\\datasource\\datasource_dict.py:197\u001b[0m, in \u001b[0;36mCacheableDatasourceDict.__getitem__\u001b[1;34m(self, name)\u001b[0m\n\u001b[0;32m    196\u001b[0m \u001b[38;5;66;03m# Upon cache miss, retrieve from store and add to cache\u001b[39;00m\n\u001b[1;32m--> 197\u001b[0m ds \u001b[38;5;241m=\u001b[39m \u001b[38;5;28;43msuper\u001b[39;49m\u001b[43m(\u001b[49m\u001b[43m)\u001b[49m\u001b[38;5;241;43m.\u001b[39;49m\u001b[38;5;21;43m__getitem__\u001b[39;49m\u001b[43m(\u001b[49m\u001b[43mname\u001b[49m\u001b[43m)\u001b[49m\n\u001b[0;32m    198\u001b[0m \u001b[38;5;28mself\u001b[39m\u001b[38;5;241m.\u001b[39mdata[name] \u001b[38;5;241m=\u001b[39m ds\n",
      "File \u001b[1;32mc:\\Users\\ymowe\\Documents\\DE_PYTHON_SQL\\ymo_DE_python_sql\\.venv\\lib\\site-packages\\great_expectations\\datasource\\datasource_dict.py:115\u001b[0m, in \u001b[0;36mDatasourceDict.__getitem__\u001b[1;34m(self, name)\u001b[0m\n\u001b[0;32m    113\u001b[0m \u001b[38;5;129m@override\u001b[39m\n\u001b[0;32m    114\u001b[0m \u001b[38;5;28;01mdef\u001b[39;00m \u001b[38;5;21m__getitem__\u001b[39m(\u001b[38;5;28mself\u001b[39m, name: \u001b[38;5;28mstr\u001b[39m) \u001b[38;5;241m-\u001b[39m\u001b[38;5;241m>\u001b[39m FluentDatasource:\n\u001b[1;32m--> 115\u001b[0m     ds \u001b[38;5;241m=\u001b[39m \u001b[38;5;28;43mself\u001b[39;49m\u001b[38;5;241;43m.\u001b[39;49m\u001b[43m_get_ds_from_store\u001b[49m\u001b[43m(\u001b[49m\u001b[43mname\u001b[49m\u001b[43m)\u001b[49m\n\u001b[0;32m    117\u001b[0m     \u001b[38;5;28;01mreturn\u001b[39;00m \u001b[38;5;28mself\u001b[39m\u001b[38;5;241m.\u001b[39m_init_fluent_datasource(name\u001b[38;5;241m=\u001b[39mname, ds\u001b[38;5;241m=\u001b[39mds)\n",
      "File \u001b[1;32mc:\\Users\\ymowe\\Documents\\DE_PYTHON_SQL\\ymo_DE_python_sql\\.venv\\lib\\site-packages\\great_expectations\\datasource\\datasource_dict.py:106\u001b[0m, in \u001b[0;36mDatasourceDict._get_ds_from_store\u001b[1;34m(self, name)\u001b[0m\n\u001b[0;32m    105\u001b[0m \u001b[38;5;28;01mexcept\u001b[39;00m \u001b[38;5;167;01mValueError\u001b[39;00m:\n\u001b[1;32m--> 106\u001b[0m     \u001b[38;5;28;01mraise\u001b[39;00m \u001b[38;5;167;01mKeyError\u001b[39;00m(\u001b[38;5;124mf\u001b[39m\u001b[38;5;124m\"\u001b[39m\u001b[38;5;124mCould not find a datasource named \u001b[39m\u001b[38;5;124m'\u001b[39m\u001b[38;5;132;01m{\u001b[39;00mname\u001b[38;5;132;01m}\u001b[39;00m\u001b[38;5;124m'\u001b[39m\u001b[38;5;124m\"\u001b[39m)\n",
      "\u001b[1;31mKeyError\u001b[0m: \"Could not find a datasource named 'my_pandas_datasource'\"",
      "\nThe above exception was the direct cause of the following exception:\n",
      "\u001b[1;31mValueError\u001b[0m                                Traceback (most recent call last)",
      "Cell \u001b[1;32mIn[3], line 2\u001b[0m\n\u001b[0;32m      1\u001b[0m \u001b[38;5;66;03m# Create a new Datasource using the fluent API\u001b[39;00m\n\u001b[1;32m----> 2\u001b[0m datasource \u001b[38;5;241m=\u001b[39m \u001b[43mcontext\u001b[49m\u001b[38;5;241;43m.\u001b[39;49m\u001b[43mget_datasource\u001b[49m\u001b[43m(\u001b[49m\u001b[38;5;124;43m\"\u001b[39;49m\u001b[38;5;124;43mmy_pandas_datasource\u001b[39;49m\u001b[38;5;124;43m\"\u001b[39;49m\u001b[43m)\u001b[49m \u001b[38;5;129;01mor\u001b[39;00m context\u001b[38;5;241m.\u001b[39msources\u001b[38;5;241m.\u001b[39madd_pandas(\n\u001b[0;32m      3\u001b[0m     name\u001b[38;5;241m=\u001b[39m\u001b[38;5;124m\"\u001b[39m\u001b[38;5;124mmy_pandas_datasource\u001b[39m\u001b[38;5;124m\"\u001b[39m\n\u001b[0;32m      4\u001b[0m )\n\u001b[0;32m      6\u001b[0m \u001b[38;5;66;03m# Add CSV assets using the fluent API\u001b[39;00m\n\u001b[0;32m      7\u001b[0m csv_asset \u001b[38;5;241m=\u001b[39m datasource\u001b[38;5;241m.\u001b[39madd_csv_asset(\n\u001b[0;32m      8\u001b[0m     name\u001b[38;5;241m=\u001b[39m\u001b[38;5;124m\"\u001b[39m\u001b[38;5;124mmy_csv_files\u001b[39m\u001b[38;5;124m\"\u001b[39m,\n\u001b[0;32m      9\u001b[0m     filepath_or_buffer\u001b[38;5;241m=\u001b[39m\u001b[38;5;124m\"\u001b[39m\u001b[38;5;124mdummy_data/*.csv\u001b[39m\u001b[38;5;124m\"\u001b[39m\n\u001b[0;32m     10\u001b[0m )\n",
      "File \u001b[1;32mc:\\Users\\ymowe\\Documents\\DE_PYTHON_SQL\\ymo_DE_python_sql\\.venv\\lib\\site-packages\\great_expectations\\data_context\\data_context\\abstract_data_context.py:877\u001b[0m, in \u001b[0;36mAbstractDataContext.get_datasource\u001b[1;34m(self, name)\u001b[0m\n\u001b[0;32m    875\u001b[0m     \u001b[38;5;28;01mreturn\u001b[39;00m \u001b[38;5;28mself\u001b[39m\u001b[38;5;241m.\u001b[39mdata_sources\u001b[38;5;241m.\u001b[39mget(name)\n\u001b[0;32m    876\u001b[0m \u001b[38;5;28;01mexcept\u001b[39;00m \u001b[38;5;167;01mKeyError\u001b[39;00m \u001b[38;5;28;01mas\u001b[39;00m e:\n\u001b[1;32m--> 877\u001b[0m     \u001b[38;5;28;01mraise\u001b[39;00m \u001b[38;5;167;01mValueError\u001b[39;00m(\u001b[38;5;28mstr\u001b[39m(e)) \u001b[38;5;28;01mfrom\u001b[39;00m \u001b[38;5;21;01me\u001b[39;00m\n",
      "\u001b[1;31mValueError\u001b[0m: \"Could not find a datasource named 'my_pandas_datasource'\""
     ]
    }
   ],
   "source": [
    "# Create a new Datasource using the fluent API\n",
    "datasource = context.get_datasource(\"my_pandas_datasource\") or context.sources.add_pandas(\n",
    "    name=\"my_pandas_datasource\"\n",
    ")\n",
    "\n",
    "# Add CSV assets using the fluent API\n",
    "csv_asset = datasource.add_csv_asset(\n",
    "    name=\"my_csv_files\",\n",
    "    filepath_or_buffer=\"dummy_data/*.csv\"\n",
    ")\n",
    "\n",
    "print(\"Data source configured successfully!\")"
   ]
  },
  {
   "cell_type": "markdown",
   "metadata": {},
   "source": [
    "## List Available Data Assets"
   ]
  },
  {
   "cell_type": "code",
   "execution_count": null,
   "metadata": {},
   "outputs": [],
   "source": [
    "# List all available data assets\n",
    "context.list_datasources()"
   ]
  }
 ],
 "metadata": {
  "kernelspec": {
   "display_name": ".venv",
   "language": "python",
   "name": "python3"
  },
  "language_info": {
   "codemirror_mode": {
    "name": "ipython",
    "version": 3
   },
   "file_extension": ".py",
   "mimetype": "text/x-python",
   "name": "python",
   "nbconvert_exporter": "python",
   "pygments_lexer": "ipython3",
   "version": "3.9.13"
  }
 },
 "nbformat": 4,
 "nbformat_minor": 4
}
