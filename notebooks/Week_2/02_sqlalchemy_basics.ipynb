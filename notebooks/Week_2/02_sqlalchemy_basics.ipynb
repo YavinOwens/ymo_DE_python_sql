{
 "cells": [
  {
   "cell_type": "markdown",
   "id": "baee204f",
   "metadata": {},
   "source": [
    "# SQLAlchemy Basics\n",
    "\n",
    "## Learning Objective\n",
    "Learn SQLAlchemy ORM\n",
    "\n",
    "## Resources\n",
    "SQLAlchemy documentation"
   ]
  },
  {
   "cell_type": "code",
   "execution_count": null,
   "id": "f5a8d2f3",
   "metadata": {},
   "outputs": [],
   "source": [
    "# Import required libraries\n",
    "import pandas as pd\n",
    "import numpy as np\n",
    "import matplotlib.pyplot as plt\n",
    "import seaborn as sns"
   ]
  },
  {
   "cell_type": "code",
   "execution_count": null,
   "id": "0b44e97b",
   "metadata": {},
   "outputs": [],
   "source": []
  }
 ],
 "metadata": {},
 "nbformat": 4,
 "nbformat_minor": 5
}
