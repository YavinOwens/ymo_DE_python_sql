{
 "cells": [
  {
   "cell_type": "markdown",
   "id": "97f70c6b",
   "metadata": {},
   "source": [
    "# Database Design\n",
    "\n",
    "## Learning Objective\n",
    "Design database schema\n",
    "\n",
    "## Resources\n",
    "Database design patterns"
   ]
  },
  {
   "cell_type": "code",
   "execution_count": null,
   "id": "e925602b",
   "metadata": {},
   "outputs": [],
   "source": [
    "# Import required libraries\n",
    "import pandas as pd\n",
    "import numpy as np\n",
    "import matplotlib.pyplot as plt\n",
    "import seaborn as sns"
   ]
  },
  {
   "cell_type": "code",
   "execution_count": null,
   "id": "d4fbaf42",
   "metadata": {},
   "outputs": [],
   "source": []
  }
 ],
 "metadata": {},
 "nbformat": 4,
 "nbformat_minor": 5
}
