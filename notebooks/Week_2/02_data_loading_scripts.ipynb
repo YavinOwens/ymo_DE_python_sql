{
 "cells": [
  {
   "cell_type": "markdown",
   "id": "3dee8ca3",
   "metadata": {},
   "source": [
    "# Data Loading Scripts\n",
    "\n",
    "## Learning Objective\n",
    "Implement hr_data_loader.py\n",
    "\n",
    "## Resources\n",
    "Python data loading examples"
   ]
  },
  {
   "cell_type": "code",
   "execution_count": null,
   "id": "4d56498c",
   "metadata": {},
   "outputs": [],
   "source": [
    "# Import required libraries\n",
    "import pandas as pd\n",
    "import numpy as np\n",
    "import matplotlib.pyplot as plt\n",
    "import seaborn as sns"
   ]
  },
  {
   "cell_type": "code",
   "execution_count": null,
   "id": "7e2f5bc8",
   "metadata": {},
   "outputs": [],
   "source": []
  }
 ],
 "metadata": {},
 "nbformat": 4,
 "nbformat_minor": 5
}
