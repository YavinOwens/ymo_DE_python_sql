{
 "cells": [
  {
   "cell_type": "markdown",
   "id": "c943cb13",
   "metadata": {},
   "source": [
    "# Database Relationships\n",
    "\n",
    "## Learning Objective\n",
    "Implement table relationships\n",
    "\n",
    "## Resources\n",
    "SQLAlchemy relationships docs"
   ]
  },
  {
   "cell_type": "code",
   "execution_count": null,
   "id": "e90cb861",
   "metadata": {},
   "outputs": [],
   "source": [
    "# Import required libraries\n",
    "import pandas as pd\n",
    "import numpy as np\n",
    "import matplotlib.pyplot as plt\n",
    "import seaborn as sns"
   ]
  },
  {
   "cell_type": "code",
   "execution_count": null,
   "id": "fa4e005d",
   "metadata": {},
   "outputs": [],
   "source": []
  }
 ],
 "metadata": {},
 "nbformat": 4,
 "nbformat_minor": 5
}
