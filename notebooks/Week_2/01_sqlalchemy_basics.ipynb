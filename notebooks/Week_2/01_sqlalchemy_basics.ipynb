{
 "cells": [
  {
   "cell_type": "markdown",
   "id": "27d65397",
   "metadata": {},
   "source": [
    "# SQLAlchemy Basics\n",
    "\n",
    "## Learning Objective\n",
    "Learn SQLAlchemy ORM basics\n",
    "\n",
    "## Topics Covered\n",
    "1. Understanding core concepts\n",
    "2. Implementation details\n",
    "3. Best practices\n",
    "4. Practical exercises"
   ]
  },
  {
   "cell_type": "code",
   "execution_count": null,
   "id": "7130f8f5",
   "metadata": {},
   "outputs": [],
   "source": [
    "# Import required libraries\n",
    "import pandas as pd\n",
    "import numpy as np\n",
    "from sqlalchemy import create_engine, Column, Integer, String, Float\n",
    "from sqlalchemy.ext.declarative import declarative_base\n",
    "from sqlalchemy.orm import sessionmaker"
   ]
  }
 ],
 "metadata": {},
 "nbformat": 4,
 "nbformat_minor": 5
}
