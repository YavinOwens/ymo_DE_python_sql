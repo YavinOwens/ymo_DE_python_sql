{
 "cells": [
  {
   "cell_type": "markdown",
   "id": "1cb719ac",
   "metadata": {},
   "source": [
    "# Data Validation\n",
    "\n",
    "## Learning Objective\n",
    "Validate input data\n",
    "\n",
    "## Resources\n",
    "Data validation libraries"
   ]
  },
  {
   "cell_type": "code",
   "execution_count": null,
   "id": "e1a23f28",
   "metadata": {},
   "outputs": [],
   "source": [
    "# Import required libraries\n",
    "import pandas as pd\n",
    "import numpy as np\n",
    "import matplotlib.pyplot as plt\n",
    "import seaborn as sns"
   ]
  },
  {
   "cell_type": "code",
   "execution_count": null,
   "id": "9d6727d0",
   "metadata": {},
   "outputs": [],
   "source": []
  }
 ],
 "metadata": {},
 "nbformat": 4,
 "nbformat_minor": 5
}
