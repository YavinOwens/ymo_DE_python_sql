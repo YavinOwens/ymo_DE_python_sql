{
 "cells": [
  {
   "cell_type": "markdown",
   "id": "6266611d",
   "metadata": {},
   "source": [
    "# Error Handling\n",
    "\n",
    "## Learning Objective\n",
    "Handle exceptions properly\n",
    "\n",
    "## Resources\n",
    "Python exceptions docs"
   ]
  },
  {
   "cell_type": "code",
   "execution_count": null,
   "id": "83189c61",
   "metadata": {},
   "outputs": [],
   "source": [
    "# Import required libraries\n",
    "import pandas as pd\n",
    "import numpy as np\n",
    "import matplotlib.pyplot as plt\n",
    "import seaborn as sns"
   ]
  },
  {
   "cell_type": "code",
   "execution_count": null,
   "id": "bf5a24c7",
   "metadata": {},
   "outputs": [],
   "source": []
  }
 ],
 "metadata": {},
 "nbformat": 4,
 "nbformat_minor": 5
}
