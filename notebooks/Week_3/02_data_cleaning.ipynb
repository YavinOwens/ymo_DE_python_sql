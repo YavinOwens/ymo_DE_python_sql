{
 "cells": [
  {
   "cell_type": "markdown",
   "id": "c180e4cd",
   "metadata": {},
   "source": [
    "# Data Cleaning\n",
    "\n",
    "## Learning Objective\n",
    "Learn data cleaning techniques\n",
    "\n",
    "## Topics Covered\n",
    "1. Understanding core concepts\n",
    "2. Implementation details\n",
    "3. Best practices\n",
    "4. Practical exercises"
   ]
  },
  {
   "cell_type": "code",
   "execution_count": null,
   "id": "b35e62dc",
   "metadata": {},
   "outputs": [],
   "source": [
    "# Import required libraries\n",
    "import pandas as pd\n",
    "import numpy as np\n",
    "import matplotlib.pyplot as plt\n",
    "import seaborn as sns\n",
    "import plotly.express as px\n",
    "import plotly.graph_objects as go"
   ]
  }
 ],
 "metadata": {},
 "nbformat": 4,
 "nbformat_minor": 5
}
