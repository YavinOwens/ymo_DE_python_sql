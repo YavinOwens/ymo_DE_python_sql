{
 "cells": [
  {
   "cell_type": "markdown",
   "id": "71d0a037",
   "metadata": {},
   "source": [
    "# Data Cleaning\n",
    "\n",
    "## Learning Objective\n",
    "Clean and prepare data\n",
    "\n",
    "## Resources\n",
    "Data cleaning guides"
   ]
  },
  {
   "cell_type": "code",
   "execution_count": null,
   "id": "b9bfa64a",
   "metadata": {},
   "outputs": [],
   "source": [
    "# Import required libraries\n",
    "import pandas as pd\n",
    "import numpy as np\n",
    "import matplotlib.pyplot as plt\n",
    "import seaborn as sns"
   ]
  },
  {
   "cell_type": "code",
   "execution_count": null,
   "id": "2017f812",
   "metadata": {},
   "outputs": [],
   "source": []
  }
 ],
 "metadata": {},
 "nbformat": 4,
 "nbformat_minor": 5
}
