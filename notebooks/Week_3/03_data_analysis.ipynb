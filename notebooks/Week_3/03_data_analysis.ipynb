{
 "cells": [
  {
   "cell_type": "markdown",
   "id": "0c0327b8",
   "metadata": {},
   "source": [
    "# Data Analysis\n",
    "\n",
    "## Learning Objective\n",
    "Implement analysis functions\n",
    "\n",
    "## Resources\n",
    "Data analysis tutorials"
   ]
  },
  {
   "cell_type": "code",
   "execution_count": null,
   "id": "b7b01d13",
   "metadata": {},
   "outputs": [],
   "source": [
    "# Import required libraries\n",
    "import pandas as pd\n",
    "import numpy as np\n",
    "import matplotlib.pyplot as plt\n",
    "import seaborn as sns"
   ]
  },
  {
   "cell_type": "code",
   "execution_count": null,
   "id": "fa2448d8",
   "metadata": {},
   "outputs": [],
   "source": []
  }
 ],
 "metadata": {},
 "nbformat": 4,
 "nbformat_minor": 5
}
