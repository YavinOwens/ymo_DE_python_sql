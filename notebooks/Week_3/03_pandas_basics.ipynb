{
 "cells": [
  {
   "cell_type": "markdown",
   "id": "679c9e7e",
   "metadata": {},
   "source": [
    "# Pandas Basics\n",
    "\n",
    "## Learning Objective\n",
    "Master Pandas operations\n",
    "\n",
    "## Resources\n",
    "Pandas documentation"
   ]
  },
  {
   "cell_type": "code",
   "execution_count": null,
   "id": "10ec14ff",
   "metadata": {},
   "outputs": [],
   "source": [
    "# Import required libraries\n",
    "import pandas as pd\n",
    "import numpy as np\n",
    "import matplotlib.pyplot as plt\n",
    "import seaborn as sns"
   ]
  },
  {
   "cell_type": "code",
   "execution_count": null,
   "id": "ba703619",
   "metadata": {},
   "outputs": [],
   "source": []
  }
 ],
 "metadata": {},
 "nbformat": 4,
 "nbformat_minor": 5
}
