{
 "cells": [
  {
   "cell_type": "markdown",
   "id": "5238a60a",
   "metadata": {},
   "source": [
    "# Seaborn\n",
    "\n",
    "## Learning Objective\n",
    "Advanced visualizations\n",
    "\n",
    "## Resources\n",
    "Seaborn gallery"
   ]
  },
  {
   "cell_type": "code",
   "execution_count": null,
   "id": "0674c4b1",
   "metadata": {},
   "outputs": [],
   "source": [
    "# Import required libraries\n",
    "import pandas as pd\n",
    "import numpy as np\n",
    "import matplotlib.pyplot as plt\n",
    "import seaborn as sns"
   ]
  },
  {
   "cell_type": "code",
   "execution_count": null,
   "id": "a213988c",
   "metadata": {},
   "outputs": [],
   "source": []
  }
 ],
 "metadata": {},
 "nbformat": 4,
 "nbformat_minor": 5
}
