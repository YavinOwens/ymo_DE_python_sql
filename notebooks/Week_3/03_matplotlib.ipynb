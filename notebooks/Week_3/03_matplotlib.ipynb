{
 "cells": [
  {
   "cell_type": "markdown",
   "id": "820d1ed6",
   "metadata": {},
   "source": [
    "# Matplotlib\n",
    "\n",
    "## Learning Objective\n",
    "Create basic plots\n",
    "\n",
    "## Resources\n",
    "Matplotlib tutorials"
   ]
  },
  {
   "cell_type": "code",
   "execution_count": null,
   "id": "e1b83920",
   "metadata": {},
   "outputs": [],
   "source": [
    "# Import required libraries\n",
    "import pandas as pd\n",
    "import numpy as np\n",
    "import matplotlib.pyplot as plt\n",
    "import seaborn as sns"
   ]
  },
  {
   "cell_type": "code",
   "execution_count": null,
   "id": "55f11e97",
   "metadata": {},
   "outputs": [],
   "source": []
  }
 ],
 "metadata": {},
 "nbformat": 4,
 "nbformat_minor": 5
}
