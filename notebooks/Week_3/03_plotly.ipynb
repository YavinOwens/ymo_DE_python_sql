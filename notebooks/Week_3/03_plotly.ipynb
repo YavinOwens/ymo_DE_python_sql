{
 "cells": [
  {
   "cell_type": "markdown",
   "id": "7de1c265",
   "metadata": {},
   "source": [
    "# Plotly\n",
    "\n",
    "## Learning Objective\n",
    "Interactive plots\n",
    "\n",
    "## Resources\n",
    "Plotly examples"
   ]
  },
  {
   "cell_type": "code",
   "execution_count": null,
   "id": "67004ae9",
   "metadata": {},
   "outputs": [],
   "source": [
    "# Import required libraries\n",
    "import pandas as pd\n",
    "import numpy as np\n",
    "import matplotlib.pyplot as plt\n",
    "import seaborn as sns"
   ]
  },
  {
   "cell_type": "code",
   "execution_count": null,
   "id": "c1484133",
   "metadata": {},
   "outputs": [],
   "source": []
  }
 ],
 "metadata": {},
 "nbformat": 4,
 "nbformat_minor": 5
}
