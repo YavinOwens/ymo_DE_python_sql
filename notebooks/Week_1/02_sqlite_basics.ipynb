{
 "cells": [
  {
   "cell_type": "markdown",
   "id": "f134134f",
   "metadata": {},
   "source": [
    "# SQLite Basics\n",
    "\n",
    "## Learning Objectives\n",
    "- Understand SQLite database fundamentals\n",
    "- Learn basic SQL queries\n",
    "- Practice database operations\n",
    "\n",
    "## Topics Covered\n",
    "1. Creating databases and tables\n",
    "2. Basic CRUD operations\n",
    "3. SQL queries and joins\n",
    "4. Database management"
   ]
  },
  {
   "cell_type": "code",
   "execution_count": null,
   "id": "f610eeb6",
   "metadata": {},
   "outputs": [],
   "source": [
    "import sqlite3\n",
    "import pandas as pd\n",
    "\n",
    "# Create a new database\n",
    "conn = sqlite3.connect('example.db')\n",
    "cursor = conn.cursor()\n",
    "\n",
    "# Create a sample table\n",
    "cursor.execute(\"\"\"\n",
    "CREATE TABLE IF NOT EXISTS employees (\n",
    "    id INTEGER PRIMARY KEY,\n",
    "    name TEXT NOT NULL,\n",
    "    department TEXT,\n",
    "    salary REAL\n",
    ")\n",
    "\"\"\")\n",
    "\n",
    "# Insert sample data\n",
    "cursor.execute(\"\"\"\n",
    "INSERT INTO employees (name, department, salary)\n",
    "VALUES \n",
    "    ('John Doe', 'IT', 75000),\n",
    "    ('Jane Smith', 'HR', 65000),\n",
    "    ('Bob Johnson', 'Finance', 80000)\n",
    "\"\"\")\n",
    "\n",
    "conn.commit()\n",
    "\n",
    "# Query the data\n",
    "df = pd.read_sql_query(\"SELECT * FROM employees\", conn)\n",
    "print(df)\n",
    "\n",
    "conn.close()\n"
   ]
  }
 ],
 "metadata": {},
 "nbformat": 4,
 "nbformat_minor": 5
}
