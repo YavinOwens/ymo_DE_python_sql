{
 "cells": [
  {
   "cell_type": "markdown",
   "id": "07d88b70",
   "metadata": {},
   "source": [
    "# Git Basics\n",
    "\n",
    "## Learning Objective\n",
    "Basic Git commands and version control\n",
    "\n",
    "## Resources\n",
    "Git documentation"
   ]
  },
  {
   "cell_type": "code",
   "execution_count": null,
   "id": "c5a80f43",
   "metadata": {},
   "outputs": [],
   "source": [
    "# Import required libraries\n",
    "import pandas as pd\n",
    "import numpy as np\n",
    "import matplotlib.pyplot as plt\n",
    "import seaborn as sns"
   ]
  },
  {
   "cell_type": "code",
   "execution_count": null,
   "id": "7b97908b",
   "metadata": {},
   "outputs": [],
   "source": []
  }
 ],
 "metadata": {},
 "nbformat": 4,
 "nbformat_minor": 5
}
