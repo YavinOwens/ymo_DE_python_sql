{
 "cells": [
  {
   "cell_type": "markdown",
   "id": "f25b862b",
   "metadata": {},
   "source": [
    "# IDE Setup\n",
    "\n",
    "## Learning Objective\n",
    "Configure VS Code/PyCharm\n",
    "\n",
    "## Resources\n",
    "VS Code/PyCharm docs"
   ]
  },
  {
   "cell_type": "code",
   "execution_count": null,
   "id": "e0b24ff2",
   "metadata": {},
   "outputs": [],
   "source": [
    "# Import required libraries\n",
    "import pandas as pd\n",
    "import numpy as np\n",
    "import matplotlib.pyplot as plt\n",
    "import seaborn as sns"
   ]
  },
  {
   "cell_type": "code",
   "execution_count": null,
   "id": "0a42cffc",
   "metadata": {},
   "outputs": [],
   "source": []
  }
 ],
 "metadata": {},
 "nbformat": 4,
 "nbformat_minor": 5
}
