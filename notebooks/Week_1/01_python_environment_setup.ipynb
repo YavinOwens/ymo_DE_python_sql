{
 "cells": [
  {
   "cell_type": "markdown",
   "id": "5a041a52",
   "metadata": {},
   "source": [
    "# Python Environment Setup\n",
    "\n",
    "## Learning Objectives\n",
    "- Set up Python development environment\n",
    "- Understand Python version management\n",
    "- Learn about Python interpreters and IDEs\n",
    "\n",
    "## Prerequisites\n",
    "- Windows operating system\n",
    "- Basic command line knowledge"
   ]
  },
  {
   "cell_type": "code",
   "execution_count": null,
   "id": "760a882c",
   "metadata": {},
   "outputs": [],
   "source": [
    "import sys\n",
    "import platform\n",
    "\n",
    "print(f\"Python Version: {sys.version}\")\n",
    "print(f\"Platform: {platform.platform()}\")\n",
    "print(f\"Python Location: {sys.executable}\")\n"
   ]
  }
 ],
 "metadata": {},
 "nbformat": 4,
 "nbformat_minor": 5
}
