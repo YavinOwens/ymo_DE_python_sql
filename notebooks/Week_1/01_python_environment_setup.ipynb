{
 "cells": [
  {
   "cell_type": "markdown",
   "id": "20f626f6",
   "metadata": {},
   "source": [
    "# Python Environment Setup\n",
    "\n",
    "## Learning Objective\n",
    "Install Python and required tools\n",
    "\n",
    "## Resources\n",
    "Python.org documentation"
   ]
  },
  {
   "cell_type": "code",
   "execution_count": null,
   "id": "3abd7b23",
   "metadata": {},
   "outputs": [],
   "source": [
    "# Import required libraries\n",
    "import pandas as pd\n",
    "import numpy as np\n",
    "import matplotlib.pyplot as plt\n",
    "import seaborn as sns"
   ]
  },
  {
   "cell_type": "code",
   "execution_count": null,
   "id": "fa981117",
   "metadata": {},
   "outputs": [],
   "source": []
  }
 ],
 "metadata": {},
 "nbformat": 4,
 "nbformat_minor": 5
}
