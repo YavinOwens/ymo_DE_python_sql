{
 "cells": [
  {
   "cell_type": "markdown",
   "id": "8e8d59bb",
   "metadata": {},
   "source": [
    "# Virtual Environments in Python\n",
    "\n",
    "## Learning Objectives\n",
    "- Understand virtual environments\n",
    "- Create and manage virtual environments\n",
    "- Install packages in isolated environments\n",
    "\n",
    "## Topics Covered\n",
    "1. Creating virtual environments\n",
    "2. Activating/deactivating environments\n",
    "3. Managing packages in virtual environments\n",
    "4. Best practices"
   ]
  },
  {
   "cell_type": "markdown",
   "id": "0576a587",
   "metadata": {},
   "source": [
    "## Creating a Virtual Environment\n",
    "\n",
    "Here are the commands to create and manage virtual environments:\n",
    "\n",
    "```bash\n",
    "# Create a new virtual environment\n",
    "python -m venv myenv\n",
    "\n",
    "# Activate the environment (Windows)\n",
    "myenv\\Scripts\u0007ctivate\n",
    "\n",
    "# Activate the environment (Unix/MacOS)\n",
    "source myenv/bin/activate\n",
    "\n",
    "# Deactivate the environment\n",
    "deactivate\n",
    "```"
   ]
  },
  {
   "cell_type": "code",
   "execution_count": null,
   "id": "10118eaa",
   "metadata": {},
   "outputs": [],
   "source": [
    "import sys\n",
    "import os\n",
    "\n",
    "# Check if running in a virtual environment\n",
    "def check_virtual_env():\n",
    "    return hasattr(sys, 'real_prefix') or (hasattr(sys, 'base_prefix') and sys.base_prefix != sys.prefix)\n",
    "\n",
    "print(f\"Running in virtual environment: {check_virtual_env()}\")\n",
    "if check_virtual_env():\n",
    "    print(f\"Virtual environment path: {sys.prefix}\")\n"
   ]
  }
 ],
 "metadata": {},
 "nbformat": 4,
 "nbformat_minor": 5
}
