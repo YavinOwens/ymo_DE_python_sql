{
 "cells": [
  {
   "cell_type": "markdown",
   "id": "ab11acdb",
   "metadata": {},
   "source": [
    "# SQLite Basics\n",
    "\n",
    "## Learning Objective\n",
    "Learn SQLite database fundamentals\n",
    "\n",
    "## Resources\n",
    "SQLite Tutorial"
   ]
  },
  {
   "cell_type": "code",
   "execution_count": null,
   "id": "0b3a610c",
   "metadata": {},
   "outputs": [],
   "source": [
    "# Import required libraries\n",
    "import pandas as pd\n",
    "import numpy as np\n",
    "import matplotlib.pyplot as plt\n",
    "import seaborn as sns"
   ]
  },
  {
   "cell_type": "code",
   "execution_count": null,
   "id": "7370fc7e",
   "metadata": {},
   "outputs": [],
   "source": []
  }
 ],
 "metadata": {},
 "nbformat": 4,
 "nbformat_minor": 5
}
