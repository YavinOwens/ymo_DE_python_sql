{
 "cells": [
  {
   "cell_type": "markdown",
   "id": "94b4d532",
   "metadata": {},
   "source": [
    "# Package Management\n",
    "\n",
    "## Learning Objective\n",
    "Understanding requirements.txt and pip\n",
    "\n",
    "## Resources\n",
    "pip documentation"
   ]
  },
  {
   "cell_type": "code",
   "execution_count": null,
   "id": "5dae8d3e",
   "metadata": {},
   "outputs": [],
   "source": [
    "# Import required libraries\n",
    "import pandas as pd\n",
    "import numpy as np\n",
    "import matplotlib.pyplot as plt\n",
    "import seaborn as sns"
   ]
  },
  {
   "cell_type": "code",
   "execution_count": null,
   "id": "5fe8cb04",
   "metadata": {},
   "outputs": [],
   "source": []
  }
 ],
 "metadata": {},
 "nbformat": 4,
 "nbformat_minor": 5
}
