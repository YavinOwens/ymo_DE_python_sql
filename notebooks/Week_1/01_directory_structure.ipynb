{
 "cells": [
  {
   "cell_type": "markdown",
   "id": "dcfe64f7",
   "metadata": {},
   "source": [
    "# Directory Structure\n",
    "\n",
    "## Learning Objective\n",
    "Create project structure\n",
    "\n",
    "## Resources\n",
    "Project README.md"
   ]
  },
  {
   "cell_type": "code",
   "execution_count": null,
   "id": "61c78f5f",
   "metadata": {},
   "outputs": [],
   "source": [
    "# Import required libraries\n",
    "import pandas as pd\n",
    "import numpy as np\n",
    "import matplotlib.pyplot as plt\n",
    "import seaborn as sns"
   ]
  },
  {
   "cell_type": "code",
   "execution_count": null,
   "id": "16b9db8d",
   "metadata": {},
   "outputs": [],
   "source": []
  }
 ],
 "metadata": {},
 "nbformat": 4,
 "nbformat_minor": 5
}
