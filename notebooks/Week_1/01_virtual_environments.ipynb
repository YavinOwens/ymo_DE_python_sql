{
 "cells": [
  {
   "cell_type": "markdown",
   "id": "afb02eae",
   "metadata": {},
   "source": [
    "# Virtual Environments\n",
    "\n",
    "## Learning Objective\n",
    "Create and manage virtual environments\n",
    "\n",
    "## Resources\n",
    "virtualenv documentation"
   ]
  },
  {
   "cell_type": "code",
   "execution_count": null,
   "id": "fd1ca756",
   "metadata": {},
   "outputs": [],
   "source": [
    "# Import required libraries\n",
    "import pandas as pd\n",
    "import numpy as np\n",
    "import matplotlib.pyplot as plt\n",
    "import seaborn as sns"
   ]
  },
  {
   "cell_type": "code",
   "execution_count": null,
   "id": "edf3a87f",
   "metadata": {},
   "outputs": [],
   "source": []
  }
 ],
 "metadata": {},
 "nbformat": 4,
 "nbformat_minor": 5
}
