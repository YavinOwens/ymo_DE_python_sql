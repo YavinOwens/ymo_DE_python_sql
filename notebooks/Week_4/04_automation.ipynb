{
 "cells": [
  {
   "cell_type": "markdown",
   "id": "960ae23b",
   "metadata": {},
   "source": [
    "# Automation\n",
    "\n",
    "## Learning Objective\n",
    "Create automation scripts\n",
    "\n",
    "## Resources\n",
    "Automation tutorials"
   ]
  },
  {
   "cell_type": "code",
   "execution_count": null,
   "id": "f43da61a",
   "metadata": {},
   "outputs": [],
   "source": [
    "# Import required libraries\n",
    "import pandas as pd\n",
    "import numpy as np\n",
    "import matplotlib.pyplot as plt\n",
    "import seaborn as sns"
   ]
  },
  {
   "cell_type": "code",
   "execution_count": null,
   "id": "4cc72685",
   "metadata": {},
   "outputs": [],
   "source": []
  }
 ],
 "metadata": {},
 "nbformat": 4,
 "nbformat_minor": 5
}
