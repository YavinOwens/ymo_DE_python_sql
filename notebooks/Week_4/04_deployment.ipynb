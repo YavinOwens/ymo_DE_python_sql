{
 "cells": [
  {
   "cell_type": "markdown",
   "id": "fcf3829d",
   "metadata": {},
   "source": [
    "# Deployment\n",
    "\n",
    "## Learning Objective\n",
    "Prepare for deployment\n",
    "\n",
    "## Resources\n",
    "Deployment guides"
   ]
  },
  {
   "cell_type": "code",
   "execution_count": null,
   "id": "4d95b434",
   "metadata": {},
   "outputs": [],
   "source": [
    "# Import required libraries\n",
    "import pandas as pd\n",
    "import numpy as np\n",
    "import matplotlib.pyplot as plt\n",
    "import seaborn as sns"
   ]
  },
  {
   "cell_type": "code",
   "execution_count": null,
   "id": "efdbc2cc",
   "metadata": {},
   "outputs": [],
   "source": []
  }
 ],
 "metadata": {},
 "nbformat": 4,
 "nbformat_minor": 5
}
