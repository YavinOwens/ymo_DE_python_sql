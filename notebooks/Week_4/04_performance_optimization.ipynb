{
 "cells": [
  {
   "cell_type": "markdown",
   "id": "38a49303",
   "metadata": {},
   "source": [
    "# Performance Optimization\n",
    "\n",
    "## Learning Objective\n",
    "Optimize code performance\n",
    "\n",
    "## Resources\n",
    "Performance tips"
   ]
  },
  {
   "cell_type": "code",
   "execution_count": null,
   "id": "1482876e",
   "metadata": {},
   "outputs": [],
   "source": [
    "# Import required libraries\n",
    "import pandas as pd\n",
    "import numpy as np\n",
    "import matplotlib.pyplot as plt\n",
    "import seaborn as sns"
   ]
  },
  {
   "cell_type": "code",
   "execution_count": null,
   "id": "6f42ec08",
   "metadata": {},
   "outputs": [],
   "source": []
  }
 ],
 "metadata": {},
 "nbformat": 4,
 "nbformat_minor": 5
}
