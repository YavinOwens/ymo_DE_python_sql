{
 "cells": [
  {
   "cell_type": "markdown",
   "id": "c77d24aa",
   "metadata": {},
   "source": [
    "# Testing\n",
    "\n",
    "## Learning Objective\n",
    "Write unit tests\n",
    "\n",
    "## Resources\n",
    "pytest documentation"
   ]
  },
  {
   "cell_type": "code",
   "execution_count": null,
   "id": "2881e014",
   "metadata": {},
   "outputs": [],
   "source": [
    "# Import required libraries\n",
    "import pandas as pd\n",
    "import numpy as np\n",
    "import matplotlib.pyplot as plt\n",
    "import seaborn as sns"
   ]
  },
  {
   "cell_type": "code",
   "execution_count": null,
   "id": "d8bdf021",
   "metadata": {},
   "outputs": [],
   "source": []
  }
 ],
 "metadata": {},
 "nbformat": 4,
 "nbformat_minor": 5
}
