{
 "cells": [
  {
   "cell_type": "markdown",
   "id": "a871f159",
   "metadata": {},
   "source": [
    "# Documentation\n",
    "\n",
    "## Learning Objective\n",
    "Document code and APIs\n",
    "\n",
    "## Resources\n",
    "Documentation tools"
   ]
  },
  {
   "cell_type": "code",
   "execution_count": null,
   "id": "f6ecb4c4",
   "metadata": {},
   "outputs": [],
   "source": [
    "# Import required libraries\n",
    "import pandas as pd\n",
    "import numpy as np\n",
    "import matplotlib.pyplot as plt\n",
    "import seaborn as sns"
   ]
  },
  {
   "cell_type": "code",
   "execution_count": null,
   "id": "1de9a9ac",
   "metadata": {},
   "outputs": [],
   "source": []
  }
 ],
 "metadata": {},
 "nbformat": 4,
 "nbformat_minor": 5
}
