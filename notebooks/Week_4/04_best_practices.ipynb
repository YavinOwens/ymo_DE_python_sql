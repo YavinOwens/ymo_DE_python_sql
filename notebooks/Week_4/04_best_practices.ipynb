{
 "cells": [
  {
   "cell_type": "markdown",
   "id": "bfd88d60",
   "metadata": {},
   "source": [
    "# Best Practices\n",
    "\n",
    "## Learning Objective\n",
    "Apply Python best practices\n",
    "\n",
    "## Resources\n",
    "PEP 8 style guide"
   ]
  },
  {
   "cell_type": "code",
   "execution_count": null,
   "id": "277e354a",
   "metadata": {},
   "outputs": [],
   "source": [
    "# Import required libraries\n",
    "import pandas as pd\n",
    "import numpy as np\n",
    "import matplotlib.pyplot as plt\n",
    "import seaborn as sns"
   ]
  },
  {
   "cell_type": "code",
   "execution_count": null,
   "id": "4c4813b0",
   "metadata": {},
   "outputs": [],
   "source": []
  }
 ],
 "metadata": {},
 "nbformat": 4,
 "nbformat_minor": 5
}
