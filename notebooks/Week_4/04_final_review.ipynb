{
 "cells": [
  {
   "cell_type": "markdown",
   "id": "ce86c418",
   "metadata": {},
   "source": [
    "# Final Review\n",
    "\n",
    "## Learning Objective\n",
    "Review entire project\n",
    "\n",
    "## Resources\n",
    "Project checklist"
   ]
  },
  {
   "cell_type": "code",
   "execution_count": null,
   "id": "f8e9bb3e",
   "metadata": {},
   "outputs": [],
   "source": [
    "# Import required libraries\n",
    "import pandas as pd\n",
    "import numpy as np\n",
    "import matplotlib.pyplot as plt\n",
    "import seaborn as sns"
   ]
  },
  {
   "cell_type": "code",
   "execution_count": null,
   "id": "a3dc9a4c",
   "metadata": {},
   "outputs": [],
   "source": []
  }
 ],
 "metadata": {},
 "nbformat": 4,
 "nbformat_minor": 5
}
