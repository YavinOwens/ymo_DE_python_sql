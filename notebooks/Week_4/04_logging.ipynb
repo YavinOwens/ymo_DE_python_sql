{
 "cells": [
  {
   "cell_type": "markdown",
   "id": "d06a2cc0",
   "metadata": {},
   "source": [
    "# Logging in Python\n",
    "\n",
    "## Learning Objective\n",
    "Implement comprehensive logging systems\n",
    "\n",
    "## Topics Covered\n",
    "1. Logging setup and configuration\n",
    "2. Log levels and handlers\n",
    "3. Formatting and rotating logs\n",
    "4. Best practices"
   ]
  },
  {
   "cell_type": "code",
   "execution_count": null,
   "id": "23e06cdb",
   "metadata": {},
   "outputs": [],
   "source": [
    "import logging\n",
    "import sys\n",
    "from datetime import datetime\n",
    "\n",
    "# Configure basic logging\n",
    "logging.basicConfig(\n",
    "    level=logging.DEBUG,\n",
    "    format='%(asctime)s - %(name)s - %(levelname)s - %(message)s',\n",
    "    handlers=[\n",
    "        logging.StreamHandler(sys.stdout)\n",
    "    ]\n",
    ")"
   ]
  }
 ],
 "metadata": {},
 "nbformat": 4,
 "nbformat_minor": 5
}
