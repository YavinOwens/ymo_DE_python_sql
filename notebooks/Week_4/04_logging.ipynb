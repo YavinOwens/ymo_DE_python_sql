{
 "cells": [
  {
   "cell_type": "markdown",
   "id": "9c24e248",
   "metadata": {},
   "source": [
    "# Logging\n",
    "\n",
    "## Learning Objective\n",
    "Implement logging system\n",
    "\n",
    "## Resources\n",
    "Python logging"
   ]
  },
  {
   "cell_type": "code",
   "execution_count": null,
   "id": "c99bb37a",
   "metadata": {},
   "outputs": [],
   "source": [
    "# Import required libraries\n",
    "import pandas as pd\n",
    "import numpy as np\n",
    "import matplotlib.pyplot as plt\n",
    "import seaborn as sns"
   ]
  },
  {
   "cell_type": "code",
   "execution_count": null,
   "id": "92779901",
   "metadata": {},
   "outputs": [],
   "source": []
  }
 ],
 "metadata": {},
 "nbformat": 4,
 "nbformat_minor": 5
}
