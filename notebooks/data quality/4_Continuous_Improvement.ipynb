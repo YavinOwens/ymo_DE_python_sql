{
 "cells": [
  {
   "cell_type": "markdown",
   "metadata": {},
   "source": [
    "# Continuous Improvement Framework for Data Quality\n",
    "\n",
    "## Overview\n",
    "This notebook implements a continuous improvement framework for HR data quality:\n",
    "1. Quality Metrics Analysis\n",
    "2. Root Cause Analysis\n",
    "3. Improvement Recommendations\n",
    "4. Implementation Tracking"
   ]
  },
  {
   "cell_type": "code",
   "execution_count": 9,
   "metadata": {},
   "outputs": [],
   "source": [
    "import pandas as pd\n",
    "import numpy as np\n",
    "from datetime import datetime\n",
    "import plotly.express as px\n",
    "import plotly.graph_objects as go\n",
    "from sklearn.linear_model import LinearRegression\n",
    "import logging\n",
    "\n",
    "logging.basicConfig(\n",
    "    filename='quality_improvement.log',\n",
    "    level=logging.INFO,\n",
    "    format='%(asctime)s - %(levelname)s - %(message)s'\n",
    ")"
   ]
  },
  {
   "cell_type": "code",
   "execution_count": 10,
   "metadata": {},
   "outputs": [],
   "source": [
    "class QualityMetricsAnalyzer:\n",
    "    def __init__(self):\n",
    "        self.metrics_history = pd.DataFrame()\n",
    "        self.trend_analysis = {}\n",
    "    \n",
    "    def load_metrics_history(self, file_path):\n",
    "        self.metrics_history = pd.read_csv(file_path)\n",
    "        self.metrics_history['timestamp'] = pd.to_datetime(self.metrics_history['timestamp'])\n",
    "    \n",
    "    def analyze_trends(self):\n",
    "        trends = {}\n",
    "        for metric in ['completeness', 'accuracy', 'timeliness']:\n",
    "            if metric in self.metrics_history.columns:\n",
    "                # Calculate trend\n",
    "                X = np.array(range(len(self.metrics_history))).reshape(-1, 1)\n",
    "                y = self.metrics_history[metric].values\n",
    "                model = LinearRegression()\n",
    "                model.fit(X, y)\n",
    "                \n",
    "                trends[metric] = {\n",
    "                    'slope': model.coef_[0],\n",
    "                    'trend': 'improving' if model.coef_[0] > 0 else 'declining',\n",
    "                    'current_value': y[-1],\n",
    "                    'historical_mean': y.mean()\n",
    "                }\n",
    "        \n",
    "        self.trend_analysis = trends\n",
    "        return trends\n",
    "    \n",
    "    def identify_problem_areas(self):\n",
    "        problems = []\n",
    "        \n",
    "        for metric, analysis in self.trend_analysis.items():\n",
    "            if analysis['trend'] == 'declining':\n",
    "                problems.append({\n",
    "                    'metric': metric,\n",
    "                    'severity': 'high' if analysis['slope'] < -0.1 else 'medium',\n",
    "                    'trend': f\"{abs(analysis['slope']*100):.2f}% decline per period\"\n",
    "                })\n",
    "        \n",
    "        return problems"
   ]
  },
  {
   "cell_type": "code",
   "execution_count": 11,
   "metadata": {},
   "outputs": [],
   "source": [
    "class RootCauseAnalyzer:\n",
    "    def __init__(self):\n",
    "        self.causes = []\n",
    "        self.recommendations = []\n",
    "    \n",
    "    def analyze_causes(self, problem_areas):\n",
    "        causes = []\n",
    "        for problem in problem_areas:\n",
    "            metric = problem['metric']\n",
    "            severity = problem['severity']\n",
    "            \n",
    "            # Define potential causes based on metric type\n",
    "            if metric == 'completeness':\n",
    "                causes.append({\n",
    "                    'metric': metric,\n",
    "                    'potential_causes': [\n",
    "                        'Missing data validation at entry point',\n",
    "                        'Incomplete data migration',\n",
    "                        'System integration issues'\n",
    "                    ],\n",
    "                    'severity': severity\n",
    "                })\n",
    "            elif metric == 'accuracy':\n",
    "                causes.append({\n",
    "                    'metric': metric,\n",
    "                    'potential_causes': [\n",
    "                        'Insufficient data validation rules',\n",
    "                        'Manual data entry errors',\n",
    "                        'Outdated data transformation logic'\n",
    "                    ],\n",
    "                    'severity': severity\n",
    "                })\n",
    "            elif metric == 'timeliness':\n",
    "                causes.append({\n",
    "                    'metric': metric,\n",
    "                    'potential_causes': [\n",
    "                        'Processing delays',\n",
    "                        'Resource constraints',\n",
    "                        'Inefficient data pipeline'\n",
    "                    ],\n",
    "                    'severity': severity\n",
    "                })\n",
    "        \n",
    "        self.causes = causes\n",
    "        return causes\n",
    "    \n",
    "    def generate_recommendations(self):\n",
    "        recommendations = []\n",
    "        for cause in self.causes:\n",
    "            metric = cause['metric']\n",
    "            severity = cause['severity']\n",
    "            \n",
    "            # Generate recommendations based on metric and severity\n",
    "            if metric == 'completeness':\n",
    "                recommendations.append({\n",
    "                    'metric': metric,\n",
    "                    'actions': [\n",
    "                        'Implement mandatory field validation',\n",
    "                        'Review data migration processes',\n",
    "                        'Enhance system integration monitoring'\n",
    "                    ],\n",
    "                    'priority': 'high' if severity == 'high' else 'medium'\n",
    "                })\n",
    "            elif metric == 'accuracy':\n",
    "                recommendations.append({\n",
    "                    'metric': metric,\n",
    "                    'actions': [\n",
    "                        'Enhance validation rules',\n",
    "                        'Implement automated data quality checks',\n",
    "                        'Review and update transformation logic'\n",
    "                    ],\n",
    "                    'priority': 'high' if severity == 'high' else 'medium'\n",
    "                })\n",
    "            elif metric == 'timeliness':\n",
    "                recommendations.append({\n",
    "                    'metric': metric,\n",
    "                    'actions': [\n",
    "                        'Optimize data processing pipeline',\n",
    "                        'Implement performance monitoring',\n",
    "                        'Review resource allocation'\n",
    "                    ],\n",
    "                    'priority': 'high' if severity == 'high' else 'medium'\n",
    "                })\n",
    "        \n",
    "        self.recommendations = recommendations\n",
    "        return recommendations"
   ]
  },
  {
   "cell_type": "code",
   "execution_count": 12,
   "metadata": {},
   "outputs": [],
   "source": [
    "class ImprovementTracking:\n",
    "    def __init__(self):\n",
    "        self.improvements = pd.DataFrame(columns=['date', 'description', 'status', 'impact'])\n",
    "        \n",
    "    def add_improvement(self, improvement_data):\n",
    "        # Ensure improvement_data has required fields\n",
    "        required_fields = {'description': '', 'status': 'pending', 'impact': 'low'}\n",
    "        improvement = {**required_fields, **improvement_data}\n",
    "        improvement['date'] = datetime.now()\n",
    "        \n",
    "        self.improvements = pd.concat([\n",
    "            self.improvements,\n",
    "            pd.DataFrame([improvement])\n",
    "        ], ignore_index=True)\n",
    "    \n",
    "    def update_status(self, index, new_status):\n",
    "        if index in self.improvements.index:\n",
    "            self.improvements.loc[index, 'status'] = new_status\n",
    "    \n",
    "    def get_improvements(self):\n",
    "        return self.improvements"
   ]
  },
  {
   "cell_type": "code",
   "execution_count": 13,
   "metadata": {},
   "outputs": [],
   "source": [
    "class ImprovementReporting:\n",
    "    def __init__(self, tracker):\n",
    "        self.tracker = tracker\n",
    "    \n",
    "    def generate_progress_report(self):\n",
    "        # Calculate overall progress\n",
    "        total = len(self.tracker.improvements)\n",
    "        if total == 0:\n",
    "            overall_progress = 0\n",
    "        else:\n",
    "            completed = len(self.tracker.improvements[\n",
    "                self.tracker.improvements['status'].str.lower() == 'completed'\n",
    "            ]) if 'status' in self.tracker.improvements.columns else 0\n",
    "            overall_progress = (completed / total * 100) if total > 0 else 0\n",
    "        \n",
    "        # Create summary DataFrame\n",
    "        summary_data = {\n",
    "            'Metric': ['Overall Progress', 'Total Improvements', 'Completed', 'Pending'],\n",
    "            'Value': [\n",
    "                f\"{overall_progress:.1f}%\",\n",
    "                str(total),\n",
    "                str(len(self._get_completed_improvements())),\n",
    "                str(len(self._get_pending_actions()))\n",
    "            ]\n",
    "        }\n",
    "        summary_df = pd.DataFrame(summary_data)\n",
    "        \n",
    "        # Create improvements DataFrame\n",
    "        improvements_df = self.tracker.improvements.copy()\n",
    "        improvements_df['date'] = improvements_df['date'].dt.strftime('%Y-%m-%d %H:%M:%S')\n",
    "        \n",
    "        return {\n",
    "            'summary': summary_df,\n",
    "            'improvements': improvements_df,\n",
    "            'impact_analysis': pd.DataFrame({\n",
    "                'Impact Level': self.tracker.improvements['impact'].value_counts().index,\n",
    "                'Count': self.tracker.improvements['impact'].value_counts().values\n",
    "            }) if 'impact' in self.tracker.improvements.columns else pd.DataFrame()\n",
    "        }\n",
    "    \n",
    "    def _get_completed_improvements(self):\n",
    "        if 'status' not in self.tracker.improvements.columns:\n",
    "            return []\n",
    "        completed = self.tracker.improvements[\n",
    "            self.tracker.improvements['status'].str.lower() == 'completed'\n",
    "        ]\n",
    "        return completed.to_dict('records')\n",
    "    \n",
    "    def _get_pending_actions(self):\n",
    "        if 'status' not in self.tracker.improvements.columns:\n",
    "            return []\n",
    "        pending = self.tracker.improvements[\n",
    "            self.tracker.improvements['status'].str.lower() == 'pending'\n",
    "        ]\n",
    "        return pending.to_dict('records')\n",
    "    \n",
    "    def visualize_progress(self):\n",
    "        if len(self.tracker.improvements) == 0:\n",
    "            return None\n",
    "        \n",
    "        # Create status distribution pie chart\n",
    "        if 'status' in self.tracker.improvements.columns:\n",
    "            status_counts = self.tracker.improvements['status'].value_counts()\n",
    "            fig = go.Figure(data=[go.Pie(\n",
    "                labels=status_counts.index,\n",
    "                values=status_counts.values,\n",
    "                hole=.3\n",
    "            )])\n",
    "            fig.update_layout(title='Improvement Status Distribution')\n",
    "            return fig\n",
    "        return None"
   ]
  },
  {
   "cell_type": "code",
   "execution_count": 14,
   "metadata": {},
   "outputs": [
    {
     "name": "stderr",
     "output_type": "stream",
     "text": [
      "C:\\Users\\ymowe\\AppData\\Local\\Temp\\ipykernel_17192\\3755196327.py:11: FutureWarning:\n",
      "\n",
      "The behavior of DataFrame concatenation with empty or all-NA entries is deprecated. In a future version, this will no longer exclude empty or all-NA columns when determining the result dtypes. To retain the old behavior, exclude the relevant entries before the concat operation.\n",
      "\n"
     ]
    }
   ],
   "source": [
    "def main():\n",
    "    # Initialize components\n",
    "    metrics_analyzer = QualityMetricsAnalyzer()\n",
    "    root_cause_analyzer = RootCauseAnalyzer()\n",
    "    improvement_tracking = ImprovementTracking()\n",
    "    reporting = ImprovementReporting(improvement_tracking)\n",
    "    \n",
    "    # 1. Analyze metrics and identify problems\n",
    "    # Note: In a real scenario, you would load actual metrics data\n",
    "    # metrics_analyzer.load_metrics_history('metrics_history.csv')\n",
    "    # problem_areas = metrics_analyzer.identify_problem_areas()\n",
    "    \n",
    "    # For demonstration, we'll use sample problem areas\n",
    "    problem_areas = [\n",
    "        {'metric': 'completeness', 'severity': 'high', 'trend': '5.2% decline per period'}\n",
    "    ]\n",
    "    \n",
    "    # 2. Analyze root causes\n",
    "    causes = root_cause_analyzer.analyze_causes(problem_areas)\n",
    "    recommendations = root_cause_analyzer.generate_recommendations()\n",
    "    \n",
    "    # 3. Track improvements\n",
    "    for rec in recommendations:\n",
    "        for action in rec['actions']:\n",
    "            improvement_tracking.add_improvement({\n",
    "                'description': action,\n",
    "                'status': 'pending',\n",
    "                'impact': rec['priority']\n",
    "            })\n",
    "    \n",
    "    # 4. Generate reports\n",
    "    progress_report = reporting.generate_progress_report()\n",
    "    progress_visualization = reporting.visualize_progress()\n",
    "    \n",
    "    return progress_report, progress_visualization\n",
    "\n",
    "if __name__ == '__main__':\n",
    "    progress_report, visualization = main()"
   ]
  },
  {
   "cell_type": "code",
   "execution_count": 15,
   "metadata": {},
   "outputs": [
    {
     "name": "stdout",
     "output_type": "stream",
     "text": [
      "Summary:\n"
     ]
    },
    {
     "data": {
      "text/html": [
       "<div>\n",
       "<style scoped>\n",
       "    .dataframe tbody tr th:only-of-type {\n",
       "        vertical-align: middle;\n",
       "    }\n",
       "\n",
       "    .dataframe tbody tr th {\n",
       "        vertical-align: top;\n",
       "    }\n",
       "\n",
       "    .dataframe thead th {\n",
       "        text-align: right;\n",
       "    }\n",
       "</style>\n",
       "<table border=\"1\" class=\"dataframe\">\n",
       "  <thead>\n",
       "    <tr style=\"text-align: right;\">\n",
       "      <th></th>\n",
       "      <th>Metric</th>\n",
       "      <th>Value</th>\n",
       "    </tr>\n",
       "  </thead>\n",
       "  <tbody>\n",
       "    <tr>\n",
       "      <th>0</th>\n",
       "      <td>Overall Progress</td>\n",
       "      <td>0.0%</td>\n",
       "    </tr>\n",
       "    <tr>\n",
       "      <th>1</th>\n",
       "      <td>Total Improvements</td>\n",
       "      <td>3</td>\n",
       "    </tr>\n",
       "    <tr>\n",
       "      <th>2</th>\n",
       "      <td>Completed</td>\n",
       "      <td>0</td>\n",
       "    </tr>\n",
       "    <tr>\n",
       "      <th>3</th>\n",
       "      <td>Pending</td>\n",
       "      <td>3</td>\n",
       "    </tr>\n",
       "  </tbody>\n",
       "</table>\n",
       "</div>"
      ],
      "text/plain": [
       "               Metric Value\n",
       "0    Overall Progress  0.0%\n",
       "1  Total Improvements     3\n",
       "2           Completed     0\n",
       "3             Pending     3"
      ]
     },
     "metadata": {},
     "output_type": "display_data"
    },
    {
     "name": "stdout",
     "output_type": "stream",
     "text": [
      "\n",
      "Improvements:\n"
     ]
    },
    {
     "data": {
      "text/html": [
       "<div>\n",
       "<style scoped>\n",
       "    .dataframe tbody tr th:only-of-type {\n",
       "        vertical-align: middle;\n",
       "    }\n",
       "\n",
       "    .dataframe tbody tr th {\n",
       "        vertical-align: top;\n",
       "    }\n",
       "\n",
       "    .dataframe thead th {\n",
       "        text-align: right;\n",
       "    }\n",
       "</style>\n",
       "<table border=\"1\" class=\"dataframe\">\n",
       "  <thead>\n",
       "    <tr style=\"text-align: right;\">\n",
       "      <th></th>\n",
       "      <th>date</th>\n",
       "      <th>description</th>\n",
       "      <th>status</th>\n",
       "      <th>impact</th>\n",
       "    </tr>\n",
       "  </thead>\n",
       "  <tbody>\n",
       "    <tr>\n",
       "      <th>0</th>\n",
       "      <td>2024-12-17 14:43:10</td>\n",
       "      <td>Implement mandatory field validation</td>\n",
       "      <td>pending</td>\n",
       "      <td>high</td>\n",
       "    </tr>\n",
       "    <tr>\n",
       "      <th>1</th>\n",
       "      <td>2024-12-17 14:43:10</td>\n",
       "      <td>Review data migration processes</td>\n",
       "      <td>pending</td>\n",
       "      <td>high</td>\n",
       "    </tr>\n",
       "    <tr>\n",
       "      <th>2</th>\n",
       "      <td>2024-12-17 14:43:10</td>\n",
       "      <td>Enhance system integration monitoring</td>\n",
       "      <td>pending</td>\n",
       "      <td>high</td>\n",
       "    </tr>\n",
       "  </tbody>\n",
       "</table>\n",
       "</div>"
      ],
      "text/plain": [
       "                  date                            description   status impact\n",
       "0  2024-12-17 14:43:10   Implement mandatory field validation  pending   high\n",
       "1  2024-12-17 14:43:10        Review data migration processes  pending   high\n",
       "2  2024-12-17 14:43:10  Enhance system integration monitoring  pending   high"
      ]
     },
     "metadata": {},
     "output_type": "display_data"
    },
    {
     "name": "stdout",
     "output_type": "stream",
     "text": [
      "\n",
      "Impact Analysis:\n"
     ]
    },
    {
     "data": {
      "text/html": [
       "<div>\n",
       "<style scoped>\n",
       "    .dataframe tbody tr th:only-of-type {\n",
       "        vertical-align: middle;\n",
       "    }\n",
       "\n",
       "    .dataframe tbody tr th {\n",
       "        vertical-align: top;\n",
       "    }\n",
       "\n",
       "    .dataframe thead th {\n",
       "        text-align: right;\n",
       "    }\n",
       "</style>\n",
       "<table border=\"1\" class=\"dataframe\">\n",
       "  <thead>\n",
       "    <tr style=\"text-align: right;\">\n",
       "      <th></th>\n",
       "      <th>Impact Level</th>\n",
       "      <th>Count</th>\n",
       "    </tr>\n",
       "  </thead>\n",
       "  <tbody>\n",
       "    <tr>\n",
       "      <th>0</th>\n",
       "      <td>high</td>\n",
       "      <td>3</td>\n",
       "    </tr>\n",
       "  </tbody>\n",
       "</table>\n",
       "</div>"
      ],
      "text/plain": [
       "  Impact Level  Count\n",
       "0         high      3"
      ]
     },
     "metadata": {},
     "output_type": "display_data"
    },
    {
     "name": "stdout",
     "output_type": "stream",
     "text": [
      "\n",
      "Visualization:\n"
     ]
    },
    {
     "data": {
      "application/vnd.plotly.v1+json": {
       "config": {
        "plotlyServerURL": "https://plot.ly"
       },
       "data": [
        {
         "hole": 0.3,
         "labels": [
          "pending"
         ],
         "type": "pie",
         "values": [
          3
         ]
        }
       ],
       "layout": {
        "template": {
         "data": {
          "bar": [
           {
            "error_x": {
             "color": "#2a3f5f"
            },
            "error_y": {
             "color": "#2a3f5f"
            },
            "marker": {
             "line": {
              "color": "#E5ECF6",
              "width": 0.5
             },
             "pattern": {
              "fillmode": "overlay",
              "size": 10,
              "solidity": 0.2
             }
            },
            "type": "bar"
           }
          ],
          "barpolar": [
           {
            "marker": {
             "line": {
              "color": "#E5ECF6",
              "width": 0.5
             },
             "pattern": {
              "fillmode": "overlay",
              "size": 10,
              "solidity": 0.2
             }
            },
            "type": "barpolar"
           }
          ],
          "carpet": [
           {
            "aaxis": {
             "endlinecolor": "#2a3f5f",
             "gridcolor": "white",
             "linecolor": "white",
             "minorgridcolor": "white",
             "startlinecolor": "#2a3f5f"
            },
            "baxis": {
             "endlinecolor": "#2a3f5f",
             "gridcolor": "white",
             "linecolor": "white",
             "minorgridcolor": "white",
             "startlinecolor": "#2a3f5f"
            },
            "type": "carpet"
           }
          ],
          "choropleth": [
           {
            "colorbar": {
             "outlinewidth": 0,
             "ticks": ""
            },
            "type": "choropleth"
           }
          ],
          "contour": [
           {
            "colorbar": {
             "outlinewidth": 0,
             "ticks": ""
            },
            "colorscale": [
             [
              0,
              "#0d0887"
             ],
             [
              0.1111111111111111,
              "#46039f"
             ],
             [
              0.2222222222222222,
              "#7201a8"
             ],
             [
              0.3333333333333333,
              "#9c179e"
             ],
             [
              0.4444444444444444,
              "#bd3786"
             ],
             [
              0.5555555555555556,
              "#d8576b"
             ],
             [
              0.6666666666666666,
              "#ed7953"
             ],
             [
              0.7777777777777778,
              "#fb9f3a"
             ],
             [
              0.8888888888888888,
              "#fdca26"
             ],
             [
              1,
              "#f0f921"
             ]
            ],
            "type": "contour"
           }
          ],
          "contourcarpet": [
           {
            "colorbar": {
             "outlinewidth": 0,
             "ticks": ""
            },
            "type": "contourcarpet"
           }
          ],
          "heatmap": [
           {
            "colorbar": {
             "outlinewidth": 0,
             "ticks": ""
            },
            "colorscale": [
             [
              0,
              "#0d0887"
             ],
             [
              0.1111111111111111,
              "#46039f"
             ],
             [
              0.2222222222222222,
              "#7201a8"
             ],
             [
              0.3333333333333333,
              "#9c179e"
             ],
             [
              0.4444444444444444,
              "#bd3786"
             ],
             [
              0.5555555555555556,
              "#d8576b"
             ],
             [
              0.6666666666666666,
              "#ed7953"
             ],
             [
              0.7777777777777778,
              "#fb9f3a"
             ],
             [
              0.8888888888888888,
              "#fdca26"
             ],
             [
              1,
              "#f0f921"
             ]
            ],
            "type": "heatmap"
           }
          ],
          "heatmapgl": [
           {
            "colorbar": {
             "outlinewidth": 0,
             "ticks": ""
            },
            "colorscale": [
             [
              0,
              "#0d0887"
             ],
             [
              0.1111111111111111,
              "#46039f"
             ],
             [
              0.2222222222222222,
              "#7201a8"
             ],
             [
              0.3333333333333333,
              "#9c179e"
             ],
             [
              0.4444444444444444,
              "#bd3786"
             ],
             [
              0.5555555555555556,
              "#d8576b"
             ],
             [
              0.6666666666666666,
              "#ed7953"
             ],
             [
              0.7777777777777778,
              "#fb9f3a"
             ],
             [
              0.8888888888888888,
              "#fdca26"
             ],
             [
              1,
              "#f0f921"
             ]
            ],
            "type": "heatmapgl"
           }
          ],
          "histogram": [
           {
            "marker": {
             "pattern": {
              "fillmode": "overlay",
              "size": 10,
              "solidity": 0.2
             }
            },
            "type": "histogram"
           }
          ],
          "histogram2d": [
           {
            "colorbar": {
             "outlinewidth": 0,
             "ticks": ""
            },
            "colorscale": [
             [
              0,
              "#0d0887"
             ],
             [
              0.1111111111111111,
              "#46039f"
             ],
             [
              0.2222222222222222,
              "#7201a8"
             ],
             [
              0.3333333333333333,
              "#9c179e"
             ],
             [
              0.4444444444444444,
              "#bd3786"
             ],
             [
              0.5555555555555556,
              "#d8576b"
             ],
             [
              0.6666666666666666,
              "#ed7953"
             ],
             [
              0.7777777777777778,
              "#fb9f3a"
             ],
             [
              0.8888888888888888,
              "#fdca26"
             ],
             [
              1,
              "#f0f921"
             ]
            ],
            "type": "histogram2d"
           }
          ],
          "histogram2dcontour": [
           {
            "colorbar": {
             "outlinewidth": 0,
             "ticks": ""
            },
            "colorscale": [
             [
              0,
              "#0d0887"
             ],
             [
              0.1111111111111111,
              "#46039f"
             ],
             [
              0.2222222222222222,
              "#7201a8"
             ],
             [
              0.3333333333333333,
              "#9c179e"
             ],
             [
              0.4444444444444444,
              "#bd3786"
             ],
             [
              0.5555555555555556,
              "#d8576b"
             ],
             [
              0.6666666666666666,
              "#ed7953"
             ],
             [
              0.7777777777777778,
              "#fb9f3a"
             ],
             [
              0.8888888888888888,
              "#fdca26"
             ],
             [
              1,
              "#f0f921"
             ]
            ],
            "type": "histogram2dcontour"
           }
          ],
          "mesh3d": [
           {
            "colorbar": {
             "outlinewidth": 0,
             "ticks": ""
            },
            "type": "mesh3d"
           }
          ],
          "parcoords": [
           {
            "line": {
             "colorbar": {
              "outlinewidth": 0,
              "ticks": ""
             }
            },
            "type": "parcoords"
           }
          ],
          "pie": [
           {
            "automargin": true,
            "type": "pie"
           }
          ],
          "scatter": [
           {
            "fillpattern": {
             "fillmode": "overlay",
             "size": 10,
             "solidity": 0.2
            },
            "type": "scatter"
           }
          ],
          "scatter3d": [
           {
            "line": {
             "colorbar": {
              "outlinewidth": 0,
              "ticks": ""
             }
            },
            "marker": {
             "colorbar": {
              "outlinewidth": 0,
              "ticks": ""
             }
            },
            "type": "scatter3d"
           }
          ],
          "scattercarpet": [
           {
            "marker": {
             "colorbar": {
              "outlinewidth": 0,
              "ticks": ""
             }
            },
            "type": "scattercarpet"
           }
          ],
          "scattergeo": [
           {
            "marker": {
             "colorbar": {
              "outlinewidth": 0,
              "ticks": ""
             }
            },
            "type": "scattergeo"
           }
          ],
          "scattergl": [
           {
            "marker": {
             "colorbar": {
              "outlinewidth": 0,
              "ticks": ""
             }
            },
            "type": "scattergl"
           }
          ],
          "scattermapbox": [
           {
            "marker": {
             "colorbar": {
              "outlinewidth": 0,
              "ticks": ""
             }
            },
            "type": "scattermapbox"
           }
          ],
          "scatterpolar": [
           {
            "marker": {
             "colorbar": {
              "outlinewidth": 0,
              "ticks": ""
             }
            },
            "type": "scatterpolar"
           }
          ],
          "scatterpolargl": [
           {
            "marker": {
             "colorbar": {
              "outlinewidth": 0,
              "ticks": ""
             }
            },
            "type": "scatterpolargl"
           }
          ],
          "scatterternary": [
           {
            "marker": {
             "colorbar": {
              "outlinewidth": 0,
              "ticks": ""
             }
            },
            "type": "scatterternary"
           }
          ],
          "surface": [
           {
            "colorbar": {
             "outlinewidth": 0,
             "ticks": ""
            },
            "colorscale": [
             [
              0,
              "#0d0887"
             ],
             [
              0.1111111111111111,
              "#46039f"
             ],
             [
              0.2222222222222222,
              "#7201a8"
             ],
             [
              0.3333333333333333,
              "#9c179e"
             ],
             [
              0.4444444444444444,
              "#bd3786"
             ],
             [
              0.5555555555555556,
              "#d8576b"
             ],
             [
              0.6666666666666666,
              "#ed7953"
             ],
             [
              0.7777777777777778,
              "#fb9f3a"
             ],
             [
              0.8888888888888888,
              "#fdca26"
             ],
             [
              1,
              "#f0f921"
             ]
            ],
            "type": "surface"
           }
          ],
          "table": [
           {
            "cells": {
             "fill": {
              "color": "#EBF0F8"
             },
             "line": {
              "color": "white"
             }
            },
            "header": {
             "fill": {
              "color": "#C8D4E3"
             },
             "line": {
              "color": "white"
             }
            },
            "type": "table"
           }
          ]
         },
         "layout": {
          "annotationdefaults": {
           "arrowcolor": "#2a3f5f",
           "arrowhead": 0,
           "arrowwidth": 1
          },
          "autotypenumbers": "strict",
          "coloraxis": {
           "colorbar": {
            "outlinewidth": 0,
            "ticks": ""
           }
          },
          "colorscale": {
           "diverging": [
            [
             0,
             "#8e0152"
            ],
            [
             0.1,
             "#c51b7d"
            ],
            [
             0.2,
             "#de77ae"
            ],
            [
             0.3,
             "#f1b6da"
            ],
            [
             0.4,
             "#fde0ef"
            ],
            [
             0.5,
             "#f7f7f7"
            ],
            [
             0.6,
             "#e6f5d0"
            ],
            [
             0.7,
             "#b8e186"
            ],
            [
             0.8,
             "#7fbc41"
            ],
            [
             0.9,
             "#4d9221"
            ],
            [
             1,
             "#276419"
            ]
           ],
           "sequential": [
            [
             0,
             "#0d0887"
            ],
            [
             0.1111111111111111,
             "#46039f"
            ],
            [
             0.2222222222222222,
             "#7201a8"
            ],
            [
             0.3333333333333333,
             "#9c179e"
            ],
            [
             0.4444444444444444,
             "#bd3786"
            ],
            [
             0.5555555555555556,
             "#d8576b"
            ],
            [
             0.6666666666666666,
             "#ed7953"
            ],
            [
             0.7777777777777778,
             "#fb9f3a"
            ],
            [
             0.8888888888888888,
             "#fdca26"
            ],
            [
             1,
             "#f0f921"
            ]
           ],
           "sequentialminus": [
            [
             0,
             "#0d0887"
            ],
            [
             0.1111111111111111,
             "#46039f"
            ],
            [
             0.2222222222222222,
             "#7201a8"
            ],
            [
             0.3333333333333333,
             "#9c179e"
            ],
            [
             0.4444444444444444,
             "#bd3786"
            ],
            [
             0.5555555555555556,
             "#d8576b"
            ],
            [
             0.6666666666666666,
             "#ed7953"
            ],
            [
             0.7777777777777778,
             "#fb9f3a"
            ],
            [
             0.8888888888888888,
             "#fdca26"
            ],
            [
             1,
             "#f0f921"
            ]
           ]
          },
          "colorway": [
           "#636efa",
           "#EF553B",
           "#00cc96",
           "#ab63fa",
           "#FFA15A",
           "#19d3f3",
           "#FF6692",
           "#B6E880",
           "#FF97FF",
           "#FECB52"
          ],
          "font": {
           "color": "#2a3f5f"
          },
          "geo": {
           "bgcolor": "white",
           "lakecolor": "white",
           "landcolor": "#E5ECF6",
           "showlakes": true,
           "showland": true,
           "subunitcolor": "white"
          },
          "hoverlabel": {
           "align": "left"
          },
          "hovermode": "closest",
          "mapbox": {
           "style": "light"
          },
          "paper_bgcolor": "white",
          "plot_bgcolor": "#E5ECF6",
          "polar": {
           "angularaxis": {
            "gridcolor": "white",
            "linecolor": "white",
            "ticks": ""
           },
           "bgcolor": "#E5ECF6",
           "radialaxis": {
            "gridcolor": "white",
            "linecolor": "white",
            "ticks": ""
           }
          },
          "scene": {
           "xaxis": {
            "backgroundcolor": "#E5ECF6",
            "gridcolor": "white",
            "gridwidth": 2,
            "linecolor": "white",
            "showbackground": true,
            "ticks": "",
            "zerolinecolor": "white"
           },
           "yaxis": {
            "backgroundcolor": "#E5ECF6",
            "gridcolor": "white",
            "gridwidth": 2,
            "linecolor": "white",
            "showbackground": true,
            "ticks": "",
            "zerolinecolor": "white"
           },
           "zaxis": {
            "backgroundcolor": "#E5ECF6",
            "gridcolor": "white",
            "gridwidth": 2,
            "linecolor": "white",
            "showbackground": true,
            "ticks": "",
            "zerolinecolor": "white"
           }
          },
          "shapedefaults": {
           "line": {
            "color": "#2a3f5f"
           }
          },
          "ternary": {
           "aaxis": {
            "gridcolor": "white",
            "linecolor": "white",
            "ticks": ""
           },
           "baxis": {
            "gridcolor": "white",
            "linecolor": "white",
            "ticks": ""
           },
           "bgcolor": "#E5ECF6",
           "caxis": {
            "gridcolor": "white",
            "linecolor": "white",
            "ticks": ""
           }
          },
          "title": {
           "x": 0.05
          },
          "xaxis": {
           "automargin": true,
           "gridcolor": "white",
           "linecolor": "white",
           "ticks": "",
           "title": {
            "standoff": 15
           },
           "zerolinecolor": "white",
           "zerolinewidth": 2
          },
          "yaxis": {
           "automargin": true,
           "gridcolor": "white",
           "linecolor": "white",
           "ticks": "",
           "title": {
            "standoff": 15
           },
           "zerolinecolor": "white",
           "zerolinewidth": 2
          }
         }
        },
        "title": {
         "text": "Improvement Status Distribution"
        }
       }
      }
     },
     "metadata": {},
     "output_type": "display_data"
    }
   ],
   "source": [
    "# Display the progress report\n",
    "print(\"Summary:\")\n",
    "display(progress_report['summary'])\n",
    "\n",
    "print(\"\\nImprovements:\")\n",
    "display(progress_report['improvements'])\n",
    "\n",
    "print(\"\\nImpact Analysis:\")\n",
    "display(progress_report['impact_analysis'])\n",
    "\n",
    "print(\"\\nVisualization:\")\n",
    "visualization"
   ]
  }
 ],
 "metadata": {
  "kernelspec": {
   "display_name": ".venv",
   "language": "python",
   "name": "python3"
  },
  "language_info": {
   "codemirror_mode": {
    "name": "ipython",
    "version": 3
   },
   "file_extension": ".py",
   "mimetype": "text/x-python",
   "name": "python",
   "nbconvert_exporter": "python",
   "pygments_lexer": "ipython3",
   "version": "3.9.13"
  }
 },
 "nbformat": 4,
 "nbformat_minor": 2
}
